{
  "nbformat": 4,
  "nbformat_minor": 0,
  "metadata": {
    "kernelspec": {
      "name": "python3",
      "display_name": "Python 3"
    },
    "language_info": {
      "codemirror_mode": {
        "name": "ipython",
        "version": 3
      },
      "file_extension": ".py",
      "mimetype": "text/x-python",
      "name": "python",
      "nbconvert_exporter": "python",
      "pygments_lexer": "ipython3",
      "version": "3.6.8"
    },
    "colab": {
      "name": "CreditCardFraudLogisticRegression.ipynb",
      "version": "0.3.2",
      "provenance": [],
      "collapsed_sections": [],
      "machine_shape": "hm",
      "include_colab_link": true
    },
    "accelerator": "GPU"
  },
  "cells": [
    {
      "cell_type": "markdown",
      "metadata": {
        "id": "view-in-github",
        "colab_type": "text"
      },
      "source": [
        "<a href=\"https://colab.research.google.com/github/harvey007y/CreditCardFraudLogisticRegression/blob/master/CreditCardFraudLogisticRegression.ipynb\" target=\"_parent\"><img src=\"https://colab.research.google.com/assets/colab-badge.svg\" alt=\"Open In Colab\"/></a>"
      ]
    },
    {
      "cell_type": "markdown",
      "metadata": {
        "id": "KpoPpfOhE41S",
        "colab_type": "text"
      },
      "source": [
        "# Implementation Dependencies "
      ]
    },
    {
      "cell_type": "code",
      "metadata": {
        "id": "sEfB7HoKE41Z",
        "colab_type": "code",
        "colab": {}
      },
      "source": [
        "# This Python 3 environment comes with many helpful analytics libraries installed\n",
        "# It is defined by the kaggle/python docker image: https://github.com/kaggle/docker-python\n",
        "# For example, here's several helpful packages to load in \n",
        "import io\n",
        "import sys\n",
        "\n",
        "# installing is needed if you are not using colab, but I am using colab\n",
        "# Install a conda package in the current Jupyter kernel\n",
        "#!conda install --yes --prefix {sys.prefix} altair\n",
        "\n",
        "#!conda install --yes --prefix {sys.prefix} lightgb\n",
        "\n",
        "import numpy as np # linear algebra\n",
        "import pandas as pd # data processing, CSV file I/O (e.g. pd.read_csv)\n",
        "import seaborn as sns\n",
        "import matplotlib.pyplot as plt\n",
        "%matplotlib inline\n",
        "\n",
        "from sklearn.metrics import roc_auc_score\n",
        "\n",
        "import altair as alt\n",
        "from altair.vega import v5\n",
        "# alt.renderers.enable('notebook')\n",
        "# from v5 import render\n",
        "from IPython.display import HTML\n",
        "from sklearn import preprocessing\n",
        "\n",
        "\n",
        "\n",
        "import gc, datetime, random\n",
        "\n",
        "from sklearn.preprocessing import MultiLabelBinarizer\n",
        "from sklearn.preprocessing import LabelEncoder\n",
        "from sklearn.impute import SimpleImputer\n",
        "\n",
        "from sklearn.base import BaseEstimator, TransformerMixin\n",
        "from sklearn.pipeline import Pipeline, FeatureUnion\n",
        "from sklearn.preprocessing import StandardScaler\n",
        "from sklearn.model_selection import cross_val_score\n",
        "from sklearn.tree import DecisionTreeClassifier\n",
        "from sklearn.linear_model import LogisticRegression\n",
        "from sklearn.svm import SVC, LinearSVC\n",
        "from sklearn.ensemble import RandomForestClassifier\n",
        "from sklearn.model_selection import StratifiedKFold, KFold, RepeatedKFold, GroupKFold, GridSearchCV, train_test_split, TimeSeriesSplit\n"
      ],
      "execution_count": 0,
      "outputs": []
    },
    {
      "cell_type": "code",
      "metadata": {
        "id": "slotYH1_IcA_",
        "colab_type": "code",
        "colab": {}
      },
      "source": [
        "# from google.colab import files\n",
        "# uploaded = files.upload()"
      ],
      "execution_count": 0,
      "outputs": []
    },
    {
      "cell_type": "code",
      "metadata": {
        "id": "m041eXDIgACB",
        "colab_type": "code",
        "colab": {}
      },
      "source": [
        "# Go to myaccount in Kaggle and generate an API key,\n",
        "# then in colab execute the following command to load the dataset:-\n",
        "\n",
        "import os\n",
        "os.environ['KAGGLE_USERNAME'] = 'xxxx' # username from the json file \n",
        "os.environ['KAGGLE_KEY'] = 'xxxx' # key from the json file "
      ],
      "execution_count": 0,
      "outputs": []
    },
    {
      "cell_type": "code",
      "metadata": {
        "id": "vDrteJB3hNgf",
        "colab_type": "code",
        "outputId": "f33676fd-b2fe-4bda-d114-a98e3040aa78",
        "colab": {
          "base_uri": "https://localhost:8080/",
          "height": 102
        }
      },
      "source": [
        "!kaggle competitions download -c ieee-fraud-detection"
      ],
      "execution_count": 5,
      "outputs": [
        {
          "output_type": "stream",
          "text": [
            "train_transaction.csv.zip: Skipping, found more recently modified local copy (use --force to force download)\n",
            "train_identity.csv.zip: Skipping, found more recently modified local copy (use --force to force download)\n",
            "test_transaction.csv.zip: Skipping, found more recently modified local copy (use --force to force download)\n",
            "test_identity.csv.zip: Skipping, found more recently modified local copy (use --force to force download)\n",
            "sample_submission.csv.zip: Skipping, found more recently modified local copy (use --force to force download)\n"
          ],
          "name": "stdout"
        }
      ]
    },
    {
      "cell_type": "code",
      "metadata": {
        "id": "URfIJ6BYhctV",
        "colab_type": "code",
        "outputId": "0c102986-8319-42d1-e304-8da2866a2cdf",
        "colab": {
          "base_uri": "https://localhost:8080/",
          "height": 221
        }
      },
      "source": [
        "!unzip train_identity.csv.zip\n",
        "!unzip train_transaction.csv.zip\n",
        "!unzip test_identity.csv.zip\n",
        "!unzip test_transaction.csv.zip"
      ],
      "execution_count": 6,
      "outputs": [
        {
          "output_type": "stream",
          "text": [
            "Archive:  train_identity.csv.zip\n",
            "replace train_identity.csv? [y]es, [n]o, [A]ll, [N]one, [r]ename: y\n",
            "  inflating: train_identity.csv      \n",
            "Archive:  train_transaction.csv.zip\n",
            "replace train_transaction.csv? [y]es, [n]o, [A]ll, [N]one, [r]ename: y\n",
            "  inflating: train_transaction.csv   \n",
            "Archive:  test_identity.csv.zip\n",
            "replace test_identity.csv? [y]es, [n]o, [A]ll, [N]one, [r]ename: y\n",
            "  inflating: test_identity.csv       \n",
            "Archive:  test_transaction.csv.zip\n",
            "replace test_transaction.csv? [y]es, [n]o, [A]ll, [N]one, [r]ename: y\n",
            "  inflating: test_transaction.csv    \n"
          ],
          "name": "stdout"
        }
      ]
    },
    {
      "cell_type": "markdown",
      "metadata": {
        "id": "R3WzbuxRE42W",
        "colab_type": "text"
      },
      "source": [
        "# Read Train Data"
      ]
    },
    {
      "cell_type": "code",
      "metadata": {
        "id": "Suspb4zjE42Z",
        "colab_type": "code",
        "colab": {}
      },
      "source": [
        "# Read the CSV file\n",
        "# train_identity = pd.read_csv('kaggle/input/ieee-fraud-detection/train_identity.csv')\n",
        "# train_identity = pd.read_csv(io.BytesIO(uploaded['train_identity.csv']))\n",
        "train_identity = pd.read_csv('./train_identity.csv')\n",
        "# train_transaction = pd.read_csv('kaggle/input/ieee-fraud-detection/train_transaction.csv')\n",
        "# train_transaction =  pd.read_csv(io.BytesIO(uploaded['train_transaction.csv']))\n",
        "train_transaction = pd.read_csv('./train_transaction.csv')"
      ],
      "execution_count": 0,
      "outputs": []
    },
    {
      "cell_type": "code",
      "metadata": {
        "id": "rQ6hQA72E42l",
        "colab_type": "code",
        "outputId": "1a0c7ce9-c158-4597-d15a-04b4cff4b115",
        "colab": {
          "base_uri": "https://localhost:8080/",
          "height": 360
        }
      },
      "source": [
        "train_identity.head(5)"
      ],
      "execution_count": 10,
      "outputs": [
        {
          "output_type": "execute_result",
          "data": {
            "text/html": [
              "<div>\n",
              "<style scoped>\n",
              "    .dataframe tbody tr th:only-of-type {\n",
              "        vertical-align: middle;\n",
              "    }\n",
              "\n",
              "    .dataframe tbody tr th {\n",
              "        vertical-align: top;\n",
              "    }\n",
              "\n",
              "    .dataframe thead th {\n",
              "        text-align: right;\n",
              "    }\n",
              "</style>\n",
              "<table border=\"1\" class=\"dataframe\">\n",
              "  <thead>\n",
              "    <tr style=\"text-align: right;\">\n",
              "      <th></th>\n",
              "      <th>TransactionID</th>\n",
              "      <th>id_01</th>\n",
              "      <th>id_02</th>\n",
              "      <th>id_03</th>\n",
              "      <th>id_04</th>\n",
              "      <th>id_05</th>\n",
              "      <th>id_06</th>\n",
              "      <th>id_07</th>\n",
              "      <th>id_08</th>\n",
              "      <th>id_09</th>\n",
              "      <th>id_10</th>\n",
              "      <th>id_11</th>\n",
              "      <th>id_12</th>\n",
              "      <th>id_13</th>\n",
              "      <th>id_14</th>\n",
              "      <th>id_15</th>\n",
              "      <th>id_16</th>\n",
              "      <th>id_17</th>\n",
              "      <th>id_18</th>\n",
              "      <th>id_19</th>\n",
              "      <th>id_20</th>\n",
              "      <th>id_21</th>\n",
              "      <th>id_22</th>\n",
              "      <th>id_23</th>\n",
              "      <th>id_24</th>\n",
              "      <th>id_25</th>\n",
              "      <th>id_26</th>\n",
              "      <th>id_27</th>\n",
              "      <th>id_28</th>\n",
              "      <th>id_29</th>\n",
              "      <th>id_30</th>\n",
              "      <th>id_31</th>\n",
              "      <th>id_32</th>\n",
              "      <th>id_33</th>\n",
              "      <th>id_34</th>\n",
              "      <th>id_35</th>\n",
              "      <th>id_36</th>\n",
              "      <th>id_37</th>\n",
              "      <th>id_38</th>\n",
              "      <th>DeviceType</th>\n",
              "      <th>DeviceInfo</th>\n",
              "    </tr>\n",
              "  </thead>\n",
              "  <tbody>\n",
              "    <tr>\n",
              "      <th>0</th>\n",
              "      <td>2987004</td>\n",
              "      <td>0.0</td>\n",
              "      <td>70787.0</td>\n",
              "      <td>NaN</td>\n",
              "      <td>NaN</td>\n",
              "      <td>NaN</td>\n",
              "      <td>NaN</td>\n",
              "      <td>NaN</td>\n",
              "      <td>NaN</td>\n",
              "      <td>NaN</td>\n",
              "      <td>NaN</td>\n",
              "      <td>100.0</td>\n",
              "      <td>NotFound</td>\n",
              "      <td>NaN</td>\n",
              "      <td>-480.0</td>\n",
              "      <td>New</td>\n",
              "      <td>NotFound</td>\n",
              "      <td>166.0</td>\n",
              "      <td>NaN</td>\n",
              "      <td>542.0</td>\n",
              "      <td>144.0</td>\n",
              "      <td>NaN</td>\n",
              "      <td>NaN</td>\n",
              "      <td>NaN</td>\n",
              "      <td>NaN</td>\n",
              "      <td>NaN</td>\n",
              "      <td>NaN</td>\n",
              "      <td>NaN</td>\n",
              "      <td>New</td>\n",
              "      <td>NotFound</td>\n",
              "      <td>Android 7.0</td>\n",
              "      <td>samsung browser 6.2</td>\n",
              "      <td>32.0</td>\n",
              "      <td>2220x1080</td>\n",
              "      <td>match_status:2</td>\n",
              "      <td>T</td>\n",
              "      <td>F</td>\n",
              "      <td>T</td>\n",
              "      <td>T</td>\n",
              "      <td>mobile</td>\n",
              "      <td>SAMSUNG SM-G892A Build/NRD90M</td>\n",
              "    </tr>\n",
              "    <tr>\n",
              "      <th>1</th>\n",
              "      <td>2987008</td>\n",
              "      <td>-5.0</td>\n",
              "      <td>98945.0</td>\n",
              "      <td>NaN</td>\n",
              "      <td>NaN</td>\n",
              "      <td>0.0</td>\n",
              "      <td>-5.0</td>\n",
              "      <td>NaN</td>\n",
              "      <td>NaN</td>\n",
              "      <td>NaN</td>\n",
              "      <td>NaN</td>\n",
              "      <td>100.0</td>\n",
              "      <td>NotFound</td>\n",
              "      <td>49.0</td>\n",
              "      <td>-300.0</td>\n",
              "      <td>New</td>\n",
              "      <td>NotFound</td>\n",
              "      <td>166.0</td>\n",
              "      <td>NaN</td>\n",
              "      <td>621.0</td>\n",
              "      <td>500.0</td>\n",
              "      <td>NaN</td>\n",
              "      <td>NaN</td>\n",
              "      <td>NaN</td>\n",
              "      <td>NaN</td>\n",
              "      <td>NaN</td>\n",
              "      <td>NaN</td>\n",
              "      <td>NaN</td>\n",
              "      <td>New</td>\n",
              "      <td>NotFound</td>\n",
              "      <td>iOS 11.1.2</td>\n",
              "      <td>mobile safari 11.0</td>\n",
              "      <td>32.0</td>\n",
              "      <td>1334x750</td>\n",
              "      <td>match_status:1</td>\n",
              "      <td>T</td>\n",
              "      <td>F</td>\n",
              "      <td>F</td>\n",
              "      <td>T</td>\n",
              "      <td>mobile</td>\n",
              "      <td>iOS Device</td>\n",
              "    </tr>\n",
              "    <tr>\n",
              "      <th>2</th>\n",
              "      <td>2987010</td>\n",
              "      <td>-5.0</td>\n",
              "      <td>191631.0</td>\n",
              "      <td>0.0</td>\n",
              "      <td>0.0</td>\n",
              "      <td>0.0</td>\n",
              "      <td>0.0</td>\n",
              "      <td>NaN</td>\n",
              "      <td>NaN</td>\n",
              "      <td>0.0</td>\n",
              "      <td>0.0</td>\n",
              "      <td>100.0</td>\n",
              "      <td>NotFound</td>\n",
              "      <td>52.0</td>\n",
              "      <td>NaN</td>\n",
              "      <td>Found</td>\n",
              "      <td>Found</td>\n",
              "      <td>121.0</td>\n",
              "      <td>NaN</td>\n",
              "      <td>410.0</td>\n",
              "      <td>142.0</td>\n",
              "      <td>NaN</td>\n",
              "      <td>NaN</td>\n",
              "      <td>NaN</td>\n",
              "      <td>NaN</td>\n",
              "      <td>NaN</td>\n",
              "      <td>NaN</td>\n",
              "      <td>NaN</td>\n",
              "      <td>Found</td>\n",
              "      <td>Found</td>\n",
              "      <td>NaN</td>\n",
              "      <td>chrome 62.0</td>\n",
              "      <td>NaN</td>\n",
              "      <td>NaN</td>\n",
              "      <td>NaN</td>\n",
              "      <td>F</td>\n",
              "      <td>F</td>\n",
              "      <td>T</td>\n",
              "      <td>T</td>\n",
              "      <td>desktop</td>\n",
              "      <td>Windows</td>\n",
              "    </tr>\n",
              "    <tr>\n",
              "      <th>3</th>\n",
              "      <td>2987011</td>\n",
              "      <td>-5.0</td>\n",
              "      <td>221832.0</td>\n",
              "      <td>NaN</td>\n",
              "      <td>NaN</td>\n",
              "      <td>0.0</td>\n",
              "      <td>-6.0</td>\n",
              "      <td>NaN</td>\n",
              "      <td>NaN</td>\n",
              "      <td>NaN</td>\n",
              "      <td>NaN</td>\n",
              "      <td>100.0</td>\n",
              "      <td>NotFound</td>\n",
              "      <td>52.0</td>\n",
              "      <td>NaN</td>\n",
              "      <td>New</td>\n",
              "      <td>NotFound</td>\n",
              "      <td>225.0</td>\n",
              "      <td>NaN</td>\n",
              "      <td>176.0</td>\n",
              "      <td>507.0</td>\n",
              "      <td>NaN</td>\n",
              "      <td>NaN</td>\n",
              "      <td>NaN</td>\n",
              "      <td>NaN</td>\n",
              "      <td>NaN</td>\n",
              "      <td>NaN</td>\n",
              "      <td>NaN</td>\n",
              "      <td>New</td>\n",
              "      <td>NotFound</td>\n",
              "      <td>NaN</td>\n",
              "      <td>chrome 62.0</td>\n",
              "      <td>NaN</td>\n",
              "      <td>NaN</td>\n",
              "      <td>NaN</td>\n",
              "      <td>F</td>\n",
              "      <td>F</td>\n",
              "      <td>T</td>\n",
              "      <td>T</td>\n",
              "      <td>desktop</td>\n",
              "      <td>NaN</td>\n",
              "    </tr>\n",
              "    <tr>\n",
              "      <th>4</th>\n",
              "      <td>2987016</td>\n",
              "      <td>0.0</td>\n",
              "      <td>7460.0</td>\n",
              "      <td>0.0</td>\n",
              "      <td>0.0</td>\n",
              "      <td>1.0</td>\n",
              "      <td>0.0</td>\n",
              "      <td>NaN</td>\n",
              "      <td>NaN</td>\n",
              "      <td>0.0</td>\n",
              "      <td>0.0</td>\n",
              "      <td>100.0</td>\n",
              "      <td>NotFound</td>\n",
              "      <td>NaN</td>\n",
              "      <td>-300.0</td>\n",
              "      <td>Found</td>\n",
              "      <td>Found</td>\n",
              "      <td>166.0</td>\n",
              "      <td>15.0</td>\n",
              "      <td>529.0</td>\n",
              "      <td>575.0</td>\n",
              "      <td>NaN</td>\n",
              "      <td>NaN</td>\n",
              "      <td>NaN</td>\n",
              "      <td>NaN</td>\n",
              "      <td>NaN</td>\n",
              "      <td>NaN</td>\n",
              "      <td>NaN</td>\n",
              "      <td>Found</td>\n",
              "      <td>Found</td>\n",
              "      <td>Mac OS X 10_11_6</td>\n",
              "      <td>chrome 62.0</td>\n",
              "      <td>24.0</td>\n",
              "      <td>1280x800</td>\n",
              "      <td>match_status:2</td>\n",
              "      <td>T</td>\n",
              "      <td>F</td>\n",
              "      <td>T</td>\n",
              "      <td>T</td>\n",
              "      <td>desktop</td>\n",
              "      <td>MacOS</td>\n",
              "    </tr>\n",
              "  </tbody>\n",
              "</table>\n",
              "</div>"
            ],
            "text/plain": [
              "   TransactionID  id_01  ...  DeviceType                     DeviceInfo\n",
              "0        2987004    0.0  ...      mobile  SAMSUNG SM-G892A Build/NRD90M\n",
              "1        2987008   -5.0  ...      mobile                     iOS Device\n",
              "2        2987010   -5.0  ...     desktop                        Windows\n",
              "3        2987011   -5.0  ...     desktop                            NaN\n",
              "4        2987016    0.0  ...     desktop                          MacOS\n",
              "\n",
              "[5 rows x 41 columns]"
            ]
          },
          "metadata": {
            "tags": []
          },
          "execution_count": 10
        }
      ]
    },
    {
      "cell_type": "markdown",
      "metadata": {
        "id": "0mC2kpirE42w",
        "colab_type": "text"
      },
      "source": [
        "This data seems quite huge and hard to understand. TransactionID is the common column in both transaction data and identity data and the two tables can be joined using this common column."
      ]
    },
    {
      "cell_type": "code",
      "metadata": {
        "id": "DZ5uyXBAE422",
        "colab_type": "code",
        "colab": {}
      },
      "source": [
        "train = pd.merge(train_transaction, train_identity, on='TransactionID', how='left')"
      ],
      "execution_count": 0,
      "outputs": []
    },
    {
      "cell_type": "code",
      "metadata": {
        "id": "rlKd3PBiE43X",
        "colab_type": "code",
        "outputId": "7d720838-96b2-49bf-ef8f-cfe887d90b53",
        "colab": {
          "base_uri": "https://localhost:8080/",
          "height": 34
        }
      },
      "source": [
        "print(f'Train dataset: {train.shape[0]} rows & {train.shape[1]} columns')"
      ],
      "execution_count": 12,
      "outputs": [
        {
          "output_type": "stream",
          "text": [
            "Train dataset: 590540 rows & 434 columns\n"
          ],
          "name": "stdout"
        }
      ]
    },
    {
      "cell_type": "markdown",
      "metadata": {
        "id": "eMmqKGKpE43f",
        "colab_type": "text"
      },
      "source": [
        "# Reduce Memory"
      ]
    },
    {
      "cell_type": "code",
      "metadata": {
        "id": "Gzt5UQimE43i",
        "colab_type": "code",
        "colab": {}
      },
      "source": [
        "def reduce_mem_usage(df, verbose=True):\n",
        "    numerics = ['int16', 'int32', 'int64', 'float16', 'float32', 'float64']\n",
        "    start_mem = df.memory_usage().sum() / 1024**2    \n",
        "    for col in df.columns:\n",
        "        col_type = df[col].dtypes\n",
        "        if col_type in numerics:\n",
        "            c_min = df[col].min()\n",
        "            c_max = df[col].max()\n",
        "            if str(col_type)[:3] == 'int':\n",
        "                if c_min > np.iinfo(np.int8).min and c_max < np.iinfo(np.int8).max:\n",
        "                    df[col] = df[col].astype(np.int8)\n",
        "                elif c_min > np.iinfo(np.int16).min and c_max < np.iinfo(np.int16).max:\n",
        "                    df[col] = df[col].astype(np.int16)\n",
        "                elif c_min > np.iinfo(np.int32).min and c_max < np.iinfo(np.int32).max:\n",
        "                    df[col] = df[col].astype(np.int32)\n",
        "                elif c_min > np.iinfo(np.int64).min and c_max < np.iinfo(np.int64).max:\n",
        "                    df[col] = df[col].astype(np.int64)  \n",
        "            else:\n",
        "                if c_min > np.finfo(np.float16).min and c_max < np.finfo(np.float16).max:\n",
        "                    df[col] = df[col].astype(np.float16)\n",
        "                elif c_min > np.finfo(np.float32).min and c_max < np.finfo(np.float32).max:\n",
        "                    df[col] = df[col].astype(np.float32)\n",
        "                else:\n",
        "                    df[col] = df[col].astype(np.float64)    \n",
        "    end_mem = df.memory_usage().sum() / 1024**2\n",
        "    if verbose: \n",
        "        print('Mem. usage decreased to {:5.2f} Mb ({:.1f}% reduction)'.format(end_mem, 100 * (start_mem - end_mem) / start_mem))\n",
        "    return df"
      ],
      "execution_count": 0,
      "outputs": []
    },
    {
      "cell_type": "code",
      "metadata": {
        "id": "zXTj6Zw6E43u",
        "colab_type": "code",
        "colab": {}
      },
      "source": [
        "# train = reduce_mem_usage(train) # not needed in colab"
      ],
      "execution_count": 0,
      "outputs": []
    },
    {
      "cell_type": "markdown",
      "metadata": {
        "id": "qI57Q1RAE436",
        "colab_type": "text"
      },
      "source": [
        "We have merged the train_transaction and train_identity into a single table called train . So we can delete the extra info."
      ]
    },
    {
      "cell_type": "code",
      "metadata": {
        "id": "fRtPtdtrE44B",
        "colab_type": "code",
        "colab": {}
      },
      "source": [
        "del train_identity, train_transaction"
      ],
      "execution_count": 0,
      "outputs": []
    },
    {
      "cell_type": "markdown",
      "metadata": {
        "id": "jMqV8TqbE44J",
        "colab_type": "text"
      },
      "source": [
        "# Read Test Data"
      ]
    },
    {
      "cell_type": "code",
      "metadata": {
        "id": "oC_3kHjlE44M",
        "colab_type": "code",
        "colab": {}
      },
      "source": [
        "# Read the CSV file\n",
        "# test_identity = pd.read_csv('kaggle/input/ieee-fraud-detection/test_identity.csv')\n",
        "# test_identity = pd.read_csv(io.BytesIO(uploaded['test_identity.csv']))\n",
        "test_identity = pd.read_csv('./test_identity.csv')\n",
        "# test_transaction = pd.read_csv('kaggle/input/ieee-fraud-detection/test_transaction.csv')\n",
        "# test_transaction =  pd.read_csv(io.BytesIO(uploaded['test_transaction.csv']))\n",
        "test_transaction = pd.read_csv('./test_transaction.csv')"
      ],
      "execution_count": 0,
      "outputs": []
    },
    {
      "cell_type": "code",
      "metadata": {
        "id": "6G07mjWmE44T",
        "colab_type": "code",
        "colab": {}
      },
      "source": [
        "test = pd.merge(test_transaction, test_identity, on='TransactionID', how='left')"
      ],
      "execution_count": 0,
      "outputs": []
    },
    {
      "cell_type": "code",
      "metadata": {
        "id": "hOSDdxOaE44b",
        "colab_type": "code",
        "outputId": "8dff2a84-bdb6-4a85-b6ee-21b81659e841",
        "colab": {
          "base_uri": "https://localhost:8080/",
          "height": 34
        }
      },
      "source": [
        "print(f'Test dataset: {test.shape[0]} rows & {test.shape[1]} columns')"
      ],
      "execution_count": 18,
      "outputs": [
        {
          "output_type": "stream",
          "text": [
            "Test dataset: 506691 rows & 433 columns\n"
          ],
          "name": "stdout"
        }
      ]
    },
    {
      "cell_type": "markdown",
      "metadata": {
        "id": "DUz-IjNhhERv",
        "colab_type": "text"
      },
      "source": [
        ""
      ]
    },
    {
      "cell_type": "code",
      "metadata": {
        "id": "DDJTvnKJg2hV",
        "colab_type": "code",
        "colab": {
          "base_uri": "https://localhost:8080/",
          "height": 1000
        },
        "outputId": "f1216ce8-23cb-45be-d6e0-73cd0bf43110"
      },
      "source": [
        "list(test.columns)"
      ],
      "execution_count": 19,
      "outputs": [
        {
          "output_type": "execute_result",
          "data": {
            "text/plain": [
              "['TransactionID',\n",
              " 'TransactionDT',\n",
              " 'TransactionAmt',\n",
              " 'ProductCD',\n",
              " 'card1',\n",
              " 'card2',\n",
              " 'card3',\n",
              " 'card4',\n",
              " 'card5',\n",
              " 'card6',\n",
              " 'addr1',\n",
              " 'addr2',\n",
              " 'dist1',\n",
              " 'dist2',\n",
              " 'P_emaildomain',\n",
              " 'R_emaildomain',\n",
              " 'C1',\n",
              " 'C2',\n",
              " 'C3',\n",
              " 'C4',\n",
              " 'C5',\n",
              " 'C6',\n",
              " 'C7',\n",
              " 'C8',\n",
              " 'C9',\n",
              " 'C10',\n",
              " 'C11',\n",
              " 'C12',\n",
              " 'C13',\n",
              " 'C14',\n",
              " 'D1',\n",
              " 'D2',\n",
              " 'D3',\n",
              " 'D4',\n",
              " 'D5',\n",
              " 'D6',\n",
              " 'D7',\n",
              " 'D8',\n",
              " 'D9',\n",
              " 'D10',\n",
              " 'D11',\n",
              " 'D12',\n",
              " 'D13',\n",
              " 'D14',\n",
              " 'D15',\n",
              " 'M1',\n",
              " 'M2',\n",
              " 'M3',\n",
              " 'M4',\n",
              " 'M5',\n",
              " 'M6',\n",
              " 'M7',\n",
              " 'M8',\n",
              " 'M9',\n",
              " 'V1',\n",
              " 'V2',\n",
              " 'V3',\n",
              " 'V4',\n",
              " 'V5',\n",
              " 'V6',\n",
              " 'V7',\n",
              " 'V8',\n",
              " 'V9',\n",
              " 'V10',\n",
              " 'V11',\n",
              " 'V12',\n",
              " 'V13',\n",
              " 'V14',\n",
              " 'V15',\n",
              " 'V16',\n",
              " 'V17',\n",
              " 'V18',\n",
              " 'V19',\n",
              " 'V20',\n",
              " 'V21',\n",
              " 'V22',\n",
              " 'V23',\n",
              " 'V24',\n",
              " 'V25',\n",
              " 'V26',\n",
              " 'V27',\n",
              " 'V28',\n",
              " 'V29',\n",
              " 'V30',\n",
              " 'V31',\n",
              " 'V32',\n",
              " 'V33',\n",
              " 'V34',\n",
              " 'V35',\n",
              " 'V36',\n",
              " 'V37',\n",
              " 'V38',\n",
              " 'V39',\n",
              " 'V40',\n",
              " 'V41',\n",
              " 'V42',\n",
              " 'V43',\n",
              " 'V44',\n",
              " 'V45',\n",
              " 'V46',\n",
              " 'V47',\n",
              " 'V48',\n",
              " 'V49',\n",
              " 'V50',\n",
              " 'V51',\n",
              " 'V52',\n",
              " 'V53',\n",
              " 'V54',\n",
              " 'V55',\n",
              " 'V56',\n",
              " 'V57',\n",
              " 'V58',\n",
              " 'V59',\n",
              " 'V60',\n",
              " 'V61',\n",
              " 'V62',\n",
              " 'V63',\n",
              " 'V64',\n",
              " 'V65',\n",
              " 'V66',\n",
              " 'V67',\n",
              " 'V68',\n",
              " 'V69',\n",
              " 'V70',\n",
              " 'V71',\n",
              " 'V72',\n",
              " 'V73',\n",
              " 'V74',\n",
              " 'V75',\n",
              " 'V76',\n",
              " 'V77',\n",
              " 'V78',\n",
              " 'V79',\n",
              " 'V80',\n",
              " 'V81',\n",
              " 'V82',\n",
              " 'V83',\n",
              " 'V84',\n",
              " 'V85',\n",
              " 'V86',\n",
              " 'V87',\n",
              " 'V88',\n",
              " 'V89',\n",
              " 'V90',\n",
              " 'V91',\n",
              " 'V92',\n",
              " 'V93',\n",
              " 'V94',\n",
              " 'V95',\n",
              " 'V96',\n",
              " 'V97',\n",
              " 'V98',\n",
              " 'V99',\n",
              " 'V100',\n",
              " 'V101',\n",
              " 'V102',\n",
              " 'V103',\n",
              " 'V104',\n",
              " 'V105',\n",
              " 'V106',\n",
              " 'V107',\n",
              " 'V108',\n",
              " 'V109',\n",
              " 'V110',\n",
              " 'V111',\n",
              " 'V112',\n",
              " 'V113',\n",
              " 'V114',\n",
              " 'V115',\n",
              " 'V116',\n",
              " 'V117',\n",
              " 'V118',\n",
              " 'V119',\n",
              " 'V120',\n",
              " 'V121',\n",
              " 'V122',\n",
              " 'V123',\n",
              " 'V124',\n",
              " 'V125',\n",
              " 'V126',\n",
              " 'V127',\n",
              " 'V128',\n",
              " 'V129',\n",
              " 'V130',\n",
              " 'V131',\n",
              " 'V132',\n",
              " 'V133',\n",
              " 'V134',\n",
              " 'V135',\n",
              " 'V136',\n",
              " 'V137',\n",
              " 'V138',\n",
              " 'V139',\n",
              " 'V140',\n",
              " 'V141',\n",
              " 'V142',\n",
              " 'V143',\n",
              " 'V144',\n",
              " 'V145',\n",
              " 'V146',\n",
              " 'V147',\n",
              " 'V148',\n",
              " 'V149',\n",
              " 'V150',\n",
              " 'V151',\n",
              " 'V152',\n",
              " 'V153',\n",
              " 'V154',\n",
              " 'V155',\n",
              " 'V156',\n",
              " 'V157',\n",
              " 'V158',\n",
              " 'V159',\n",
              " 'V160',\n",
              " 'V161',\n",
              " 'V162',\n",
              " 'V163',\n",
              " 'V164',\n",
              " 'V165',\n",
              " 'V166',\n",
              " 'V167',\n",
              " 'V168',\n",
              " 'V169',\n",
              " 'V170',\n",
              " 'V171',\n",
              " 'V172',\n",
              " 'V173',\n",
              " 'V174',\n",
              " 'V175',\n",
              " 'V176',\n",
              " 'V177',\n",
              " 'V178',\n",
              " 'V179',\n",
              " 'V180',\n",
              " 'V181',\n",
              " 'V182',\n",
              " 'V183',\n",
              " 'V184',\n",
              " 'V185',\n",
              " 'V186',\n",
              " 'V187',\n",
              " 'V188',\n",
              " 'V189',\n",
              " 'V190',\n",
              " 'V191',\n",
              " 'V192',\n",
              " 'V193',\n",
              " 'V194',\n",
              " 'V195',\n",
              " 'V196',\n",
              " 'V197',\n",
              " 'V198',\n",
              " 'V199',\n",
              " 'V200',\n",
              " 'V201',\n",
              " 'V202',\n",
              " 'V203',\n",
              " 'V204',\n",
              " 'V205',\n",
              " 'V206',\n",
              " 'V207',\n",
              " 'V208',\n",
              " 'V209',\n",
              " 'V210',\n",
              " 'V211',\n",
              " 'V212',\n",
              " 'V213',\n",
              " 'V214',\n",
              " 'V215',\n",
              " 'V216',\n",
              " 'V217',\n",
              " 'V218',\n",
              " 'V219',\n",
              " 'V220',\n",
              " 'V221',\n",
              " 'V222',\n",
              " 'V223',\n",
              " 'V224',\n",
              " 'V225',\n",
              " 'V226',\n",
              " 'V227',\n",
              " 'V228',\n",
              " 'V229',\n",
              " 'V230',\n",
              " 'V231',\n",
              " 'V232',\n",
              " 'V233',\n",
              " 'V234',\n",
              " 'V235',\n",
              " 'V236',\n",
              " 'V237',\n",
              " 'V238',\n",
              " 'V239',\n",
              " 'V240',\n",
              " 'V241',\n",
              " 'V242',\n",
              " 'V243',\n",
              " 'V244',\n",
              " 'V245',\n",
              " 'V246',\n",
              " 'V247',\n",
              " 'V248',\n",
              " 'V249',\n",
              " 'V250',\n",
              " 'V251',\n",
              " 'V252',\n",
              " 'V253',\n",
              " 'V254',\n",
              " 'V255',\n",
              " 'V256',\n",
              " 'V257',\n",
              " 'V258',\n",
              " 'V259',\n",
              " 'V260',\n",
              " 'V261',\n",
              " 'V262',\n",
              " 'V263',\n",
              " 'V264',\n",
              " 'V265',\n",
              " 'V266',\n",
              " 'V267',\n",
              " 'V268',\n",
              " 'V269',\n",
              " 'V270',\n",
              " 'V271',\n",
              " 'V272',\n",
              " 'V273',\n",
              " 'V274',\n",
              " 'V275',\n",
              " 'V276',\n",
              " 'V277',\n",
              " 'V278',\n",
              " 'V279',\n",
              " 'V280',\n",
              " 'V281',\n",
              " 'V282',\n",
              " 'V283',\n",
              " 'V284',\n",
              " 'V285',\n",
              " 'V286',\n",
              " 'V287',\n",
              " 'V288',\n",
              " 'V289',\n",
              " 'V290',\n",
              " 'V291',\n",
              " 'V292',\n",
              " 'V293',\n",
              " 'V294',\n",
              " 'V295',\n",
              " 'V296',\n",
              " 'V297',\n",
              " 'V298',\n",
              " 'V299',\n",
              " 'V300',\n",
              " 'V301',\n",
              " 'V302',\n",
              " 'V303',\n",
              " 'V304',\n",
              " 'V305',\n",
              " 'V306',\n",
              " 'V307',\n",
              " 'V308',\n",
              " 'V309',\n",
              " 'V310',\n",
              " 'V311',\n",
              " 'V312',\n",
              " 'V313',\n",
              " 'V314',\n",
              " 'V315',\n",
              " 'V316',\n",
              " 'V317',\n",
              " 'V318',\n",
              " 'V319',\n",
              " 'V320',\n",
              " 'V321',\n",
              " 'V322',\n",
              " 'V323',\n",
              " 'V324',\n",
              " 'V325',\n",
              " 'V326',\n",
              " 'V327',\n",
              " 'V328',\n",
              " 'V329',\n",
              " 'V330',\n",
              " 'V331',\n",
              " 'V332',\n",
              " 'V333',\n",
              " 'V334',\n",
              " 'V335',\n",
              " 'V336',\n",
              " 'V337',\n",
              " 'V338',\n",
              " 'V339',\n",
              " 'id_01',\n",
              " 'id_02',\n",
              " 'id_03',\n",
              " 'id_04',\n",
              " 'id_05',\n",
              " 'id_06',\n",
              " 'id_07',\n",
              " 'id_08',\n",
              " 'id_09',\n",
              " 'id_10',\n",
              " 'id_11',\n",
              " 'id_12',\n",
              " 'id_13',\n",
              " 'id_14',\n",
              " 'id_15',\n",
              " 'id_16',\n",
              " 'id_17',\n",
              " 'id_18',\n",
              " 'id_19',\n",
              " 'id_20',\n",
              " 'id_21',\n",
              " 'id_22',\n",
              " 'id_23',\n",
              " 'id_24',\n",
              " 'id_25',\n",
              " 'id_26',\n",
              " 'id_27',\n",
              " 'id_28',\n",
              " 'id_29',\n",
              " 'id_30',\n",
              " 'id_31',\n",
              " 'id_32',\n",
              " 'id_33',\n",
              " 'id_34',\n",
              " 'id_35',\n",
              " 'id_36',\n",
              " 'id_37',\n",
              " 'id_38',\n",
              " 'DeviceType',\n",
              " 'DeviceInfo']"
            ]
          },
          "metadata": {
            "tags": []
          },
          "execution_count": 19
        }
      ]
    },
    {
      "cell_type": "code",
      "metadata": {
        "id": "OFMTrCD_E44j",
        "colab_type": "code",
        "colab": {}
      },
      "source": [
        "# test = reduce_mem_usage(test)"
      ],
      "execution_count": 0,
      "outputs": []
    },
    {
      "cell_type": "markdown",
      "metadata": {
        "id": "5EKCI3unE44s",
        "colab_type": "text"
      },
      "source": [
        "We have merged the test_transaction and ttest_identity into a single table called test. So we can delete the extra info."
      ]
    },
    {
      "cell_type": "code",
      "metadata": {
        "id": "2uVA3iLME44u",
        "colab_type": "code",
        "colab": {}
      },
      "source": [
        "del  test_identity, test_transaction"
      ],
      "execution_count": 0,
      "outputs": []
    },
    {
      "cell_type": "markdown",
      "metadata": {
        "id": "MZUPJa18E444",
        "colab_type": "text"
      },
      "source": [
        "## Recognize categorical and numerical attributes"
      ]
    },
    {
      "cell_type": "markdown",
      "metadata": {
        "id": "L58MkrcKE447",
        "colab_type": "text"
      },
      "source": [
        "Now let's recognize the categorical data and numerical data."
      ]
    },
    {
      "cell_type": "code",
      "metadata": {
        "id": "ZKeSXQeqE44-",
        "colab_type": "code",
        "outputId": "82f0a7f1-4674-45eb-e4f2-acde3c6b17c0",
        "colab": {
          "base_uri": "https://localhost:8080/",
          "height": 544
        }
      },
      "source": [
        "cat_cols = list(train.select_dtypes(include=['object']).columns)\n",
        "cat_cols"
      ],
      "execution_count": 22,
      "outputs": [
        {
          "output_type": "execute_result",
          "data": {
            "text/plain": [
              "['ProductCD',\n",
              " 'card4',\n",
              " 'card6',\n",
              " 'P_emaildomain',\n",
              " 'R_emaildomain',\n",
              " 'M1',\n",
              " 'M2',\n",
              " 'M3',\n",
              " 'M4',\n",
              " 'M5',\n",
              " 'M6',\n",
              " 'M7',\n",
              " 'M8',\n",
              " 'M9',\n",
              " 'id_12',\n",
              " 'id_15',\n",
              " 'id_16',\n",
              " 'id_23',\n",
              " 'id_27',\n",
              " 'id_28',\n",
              " 'id_29',\n",
              " 'id_30',\n",
              " 'id_31',\n",
              " 'id_33',\n",
              " 'id_34',\n",
              " 'id_35',\n",
              " 'id_36',\n",
              " 'id_37',\n",
              " 'id_38',\n",
              " 'DeviceType',\n",
              " 'DeviceInfo']"
            ]
          },
          "metadata": {
            "tags": []
          },
          "execution_count": 22
        }
      ]
    },
    {
      "cell_type": "markdown",
      "metadata": {
        "id": "lk8IPlxXE45K",
        "colab_type": "text"
      },
      "source": [
        "# Recognize missing data"
      ]
    },
    {
      "cell_type": "markdown",
      "metadata": {
        "id": "2D83ZlLGE45M",
        "colab_type": "text"
      },
      "source": [
        "In a real dataset, it is common to have many null attributes."
      ]
    },
    {
      "cell_type": "code",
      "metadata": {
        "id": "UzkTHCCwE45P",
        "colab_type": "code",
        "outputId": "d9b59137-521f-43b8-ec61-14aac6bbb95f",
        "colab": {
          "base_uri": "https://localhost:8080/",
          "height": 204
        }
      },
      "source": [
        "data_null = train.isnull().sum()/len(train) * 100\n",
        "data_null = data_null.drop(data_null[data_null == 0].index).sort_values(ascending=False)[:500]\n",
        "missing_data = pd.DataFrame({'Missing Ratio': data_null})\n",
        "missing_data.head()"
      ],
      "execution_count": 23,
      "outputs": [
        {
          "output_type": "execute_result",
          "data": {
            "text/html": [
              "<div>\n",
              "<style scoped>\n",
              "    .dataframe tbody tr th:only-of-type {\n",
              "        vertical-align: middle;\n",
              "    }\n",
              "\n",
              "    .dataframe tbody tr th {\n",
              "        vertical-align: top;\n",
              "    }\n",
              "\n",
              "    .dataframe thead th {\n",
              "        text-align: right;\n",
              "    }\n",
              "</style>\n",
              "<table border=\"1\" class=\"dataframe\">\n",
              "  <thead>\n",
              "    <tr style=\"text-align: right;\">\n",
              "      <th></th>\n",
              "      <th>Missing Ratio</th>\n",
              "    </tr>\n",
              "  </thead>\n",
              "  <tbody>\n",
              "    <tr>\n",
              "      <th>id_24</th>\n",
              "      <td>99.196159</td>\n",
              "    </tr>\n",
              "    <tr>\n",
              "      <th>id_25</th>\n",
              "      <td>99.130965</td>\n",
              "    </tr>\n",
              "    <tr>\n",
              "      <th>id_07</th>\n",
              "      <td>99.127070</td>\n",
              "    </tr>\n",
              "    <tr>\n",
              "      <th>id_08</th>\n",
              "      <td>99.127070</td>\n",
              "    </tr>\n",
              "    <tr>\n",
              "      <th>id_21</th>\n",
              "      <td>99.126393</td>\n",
              "    </tr>\n",
              "  </tbody>\n",
              "</table>\n",
              "</div>"
            ],
            "text/plain": [
              "       Missing Ratio\n",
              "id_24      99.196159\n",
              "id_25      99.130965\n",
              "id_07      99.127070\n",
              "id_08      99.127070\n",
              "id_21      99.126393"
            ]
          },
          "metadata": {
            "tags": []
          },
          "execution_count": 23
        }
      ]
    },
    {
      "cell_type": "code",
      "metadata": {
        "id": "EMxVtHHqE45l",
        "colab_type": "code",
        "outputId": "90ae3496-4cd1-4f2b-c6f3-a0b14f4195b2",
        "colab": {
          "base_uri": "https://localhost:8080/",
          "height": 34
        }
      },
      "source": [
        "missing_data.shape"
      ],
      "execution_count": 24,
      "outputs": [
        {
          "output_type": "execute_result",
          "data": {
            "text/plain": [
              "(414, 1)"
            ]
          },
          "metadata": {
            "tags": []
          },
          "execution_count": 24
        }
      ]
    },
    {
      "cell_type": "markdown",
      "metadata": {
        "id": "qHBttmJJE450",
        "colab_type": "text"
      },
      "source": [
        "There are 414 attributes containing null values.\n",
        "\n",
        "Now we will delete attributes with more than 90 percent missing value."
      ]
    },
    {
      "cell_type": "code",
      "metadata": {
        "id": "LfSy3q03E453",
        "colab_type": "code",
        "colab": {}
      },
      "source": [
        "def get_too_many_null_attr(data):\n",
        "    many_null_cols = [col for col in data.columns if data[col].isnull().sum() / data.shape[0] > 0.9]\n",
        "    return many_null_cols"
      ],
      "execution_count": 0,
      "outputs": []
    },
    {
      "cell_type": "code",
      "metadata": {
        "id": "hYe_sEH-E45-",
        "colab_type": "code",
        "colab": {}
      },
      "source": [
        "def get_too_many_repeated_val(data):\n",
        "    big_top_value_cols = [col for col in train.columns if train[col].value_counts(dropna=False, normalize=True).values[0] > 0.9]\n",
        "    return big_top_value_cols"
      ],
      "execution_count": 0,
      "outputs": []
    },
    {
      "cell_type": "code",
      "metadata": {
        "id": "XJGQkOzOE46J",
        "colab_type": "code",
        "colab": {}
      },
      "source": [
        "def get_useless_columns(data):\n",
        "    too_many_null = get_too_many_null_attr(data)\n",
        "    print(\"More than 90% null: \" + str(len(too_many_null)))\n",
        "    too_many_repeated = get_too_many_repeated_val(data)\n",
        "    print(\"More than 90% repeated value: \" + str(len(too_many_repeated)))\n",
        "    cols_to_drop = list(set(too_many_null + too_many_repeated))\n",
        "    cols_to_drop.remove('isFraud')\n",
        "    return cols_to_drop"
      ],
      "execution_count": 0,
      "outputs": []
    },
    {
      "cell_type": "code",
      "metadata": {
        "id": "HHQnMtazE46Q",
        "colab_type": "code",
        "outputId": "3ce88e56-51ac-4bc6-b6d5-df1829046484",
        "colab": {
          "base_uri": "https://localhost:8080/",
          "height": 51
        }
      },
      "source": [
        "cols_to_drop = get_useless_columns(train)"
      ],
      "execution_count": 28,
      "outputs": [
        {
          "output_type": "stream",
          "text": [
            "More than 90% null: 12\n",
            "More than 90% repeated value: 67\n"
          ],
          "name": "stdout"
        }
      ]
    },
    {
      "cell_type": "code",
      "metadata": {
        "id": "CBlKrxi8E46Y",
        "colab_type": "code",
        "outputId": "ed5a3129-05ce-400a-8504-27e25a8a8a9f",
        "colab": {
          "base_uri": "https://localhost:8080/",
          "height": 722
        }
      },
      "source": [
        "plt.subplots(figsize=(40,10))\n",
        "plt.xticks(rotation='90')\n",
        "sns.barplot(data_null.index, data_null)\n",
        "plt.xlabel('Features', fontsize=20)\n",
        "plt.ylabel('Missing rate', fontsize=20)"
      ],
      "execution_count": 29,
      "outputs": [
        {
          "output_type": "execute_result",
          "data": {
            "text/plain": [
              "Text(0, 0.5, 'Missing rate')"
            ]
          },
          "metadata": {
            "tags": []
          },
          "execution_count": 29
        },
        {
          "output_type": "display_data",
          "data": {
            "image/png": "[encoded data removed]",
            "text/plain": [
              "<Figure size 2880x720 with 1 Axes>"
            ]
          },
          "metadata": {
            "tags": []
          }
        }
      ]
    },
    {
      "cell_type": "markdown",
      "metadata": {
        "id": "b7jr54EQE46i",
        "colab_type": "text"
      },
      "source": [
        "# Knowing the Data"
      ]
    },
    {
      "cell_type": "code",
      "metadata": {
        "id": "zKM_zOeVE46l",
        "colab_type": "code",
        "outputId": "6fa4f8fc-68d8-47de-992a-3190e2ecb6c3",
        "colab": {
          "base_uri": "https://localhost:8080/",
          "height": 119
        }
      },
      "source": [
        "train['id_03'].value_counts(dropna=False, normalize=True).head()"
      ],
      "execution_count": 30,
      "outputs": [
        {
          "output_type": "execute_result",
          "data": {
            "text/plain": [
              "NaN    0.887689\n",
              "0.0    0.108211\n",
              "1.0    0.001461\n",
              "3.0    0.001131\n",
              "2.0    0.000713\n",
              "Name: id_03, dtype: float64"
            ]
          },
          "metadata": {
            "tags": []
          },
          "execution_count": 30
        }
      ]
    },
    {
      "cell_type": "markdown",
      "metadata": {
        "id": "PQCTrNvbE46w",
        "colab_type": "text"
      },
      "source": [
        "As you can see, 88% of values are missing and 10% of them are equal to 0. So, 98% of data is either missing or 0. This attribute does not seem to be helpful."
      ]
    },
    {
      "cell_type": "code",
      "metadata": {
        "id": "f2Ak8TqbE46z",
        "colab_type": "code",
        "outputId": "2e0d5884-92bb-40d6-f831-044bf3f5fdee",
        "colab": {
          "base_uri": "https://localhost:8080/",
          "height": 119
        }
      },
      "source": [
        "train['id_11'].value_counts(dropna=False, normalize=True).head()"
      ],
      "execution_count": 31,
      "outputs": [
        {
          "output_type": "execute_result",
          "data": {
            "text/plain": [
              "NaN           0.761273\n",
              "100.000000    0.225492\n",
              "95.080002     0.002085\n",
              "95.160004     0.001277\n",
              "97.120003     0.000745\n",
              "Name: id_11, dtype: float64"
            ]
          },
          "metadata": {
            "tags": []
          },
          "execution_count": 31
        }
      ]
    },
    {
      "cell_type": "markdown",
      "metadata": {
        "id": "PCfnbrQeE47C",
        "colab_type": "text"
      },
      "source": [
        "Here we see that 76% of data is missing and more that 22% is equal to 100. This does not seem useful either."
      ]
    },
    {
      "cell_type": "code",
      "metadata": {
        "id": "8GJJ6TmVE47F",
        "colab_type": "code",
        "outputId": "982d5d66-3b7b-48a1-82bc-b94c9de02a9e",
        "colab": {
          "base_uri": "https://localhost:8080/",
          "height": 1000
        }
      },
      "source": [
        "list(train.columns)"
      ],
      "execution_count": 32,
      "outputs": [
        {
          "output_type": "execute_result",
          "data": {
            "text/plain": [
              "['TransactionID',\n",
              " 'isFraud',\n",
              " 'TransactionDT',\n",
              " 'TransactionAmt',\n",
              " 'ProductCD',\n",
              " 'card1',\n",
              " 'card2',\n",
              " 'card3',\n",
              " 'card4',\n",
              " 'card5',\n",
              " 'card6',\n",
              " 'addr1',\n",
              " 'addr2',\n",
              " 'dist1',\n",
              " 'dist2',\n",
              " 'P_emaildomain',\n",
              " 'R_emaildomain',\n",
              " 'C1',\n",
              " 'C2',\n",
              " 'C3',\n",
              " 'C4',\n",
              " 'C5',\n",
              " 'C6',\n",
              " 'C7',\n",
              " 'C8',\n",
              " 'C9',\n",
              " 'C10',\n",
              " 'C11',\n",
              " 'C12',\n",
              " 'C13',\n",
              " 'C14',\n",
              " 'D1',\n",
              " 'D2',\n",
              " 'D3',\n",
              " 'D4',\n",
              " 'D5',\n",
              " 'D6',\n",
              " 'D7',\n",
              " 'D8',\n",
              " 'D9',\n",
              " 'D10',\n",
              " 'D11',\n",
              " 'D12',\n",
              " 'D13',\n",
              " 'D14',\n",
              " 'D15',\n",
              " 'M1',\n",
              " 'M2',\n",
              " 'M3',\n",
              " 'M4',\n",
              " 'M5',\n",
              " 'M6',\n",
              " 'M7',\n",
              " 'M8',\n",
              " 'M9',\n",
              " 'V1',\n",
              " 'V2',\n",
              " 'V3',\n",
              " 'V4',\n",
              " 'V5',\n",
              " 'V6',\n",
              " 'V7',\n",
              " 'V8',\n",
              " 'V9',\n",
              " 'V10',\n",
              " 'V11',\n",
              " 'V12',\n",
              " 'V13',\n",
              " 'V14',\n",
              " 'V15',\n",
              " 'V16',\n",
              " 'V17',\n",
              " 'V18',\n",
              " 'V19',\n",
              " 'V20',\n",
              " 'V21',\n",
              " 'V22',\n",
              " 'V23',\n",
              " 'V24',\n",
              " 'V25',\n",
              " 'V26',\n",
              " 'V27',\n",
              " 'V28',\n",
              " 'V29',\n",
              " 'V30',\n",
              " 'V31',\n",
              " 'V32',\n",
              " 'V33',\n",
              " 'V34',\n",
              " 'V35',\n",
              " 'V36',\n",
              " 'V37',\n",
              " 'V38',\n",
              " 'V39',\n",
              " 'V40',\n",
              " 'V41',\n",
              " 'V42',\n",
              " 'V43',\n",
              " 'V44',\n",
              " 'V45',\n",
              " 'V46',\n",
              " 'V47',\n",
              " 'V48',\n",
              " 'V49',\n",
              " 'V50',\n",
              " 'V51',\n",
              " 'V52',\n",
              " 'V53',\n",
              " 'V54',\n",
              " 'V55',\n",
              " 'V56',\n",
              " 'V57',\n",
              " 'V58',\n",
              " 'V59',\n",
              " 'V60',\n",
              " 'V61',\n",
              " 'V62',\n",
              " 'V63',\n",
              " 'V64',\n",
              " 'V65',\n",
              " 'V66',\n",
              " 'V67',\n",
              " 'V68',\n",
              " 'V69',\n",
              " 'V70',\n",
              " 'V71',\n",
              " 'V72',\n",
              " 'V73',\n",
              " 'V74',\n",
              " 'V75',\n",
              " 'V76',\n",
              " 'V77',\n",
              " 'V78',\n",
              " 'V79',\n",
              " 'V80',\n",
              " 'V81',\n",
              " 'V82',\n",
              " 'V83',\n",
              " 'V84',\n",
              " 'V85',\n",
              " 'V86',\n",
              " 'V87',\n",
              " 'V88',\n",
              " 'V89',\n",
              " 'V90',\n",
              " 'V91',\n",
              " 'V92',\n",
              " 'V93',\n",
              " 'V94',\n",
              " 'V95',\n",
              " 'V96',\n",
              " 'V97',\n",
              " 'V98',\n",
              " 'V99',\n",
              " 'V100',\n",
              " 'V101',\n",
              " 'V102',\n",
              " 'V103',\n",
              " 'V104',\n",
              " 'V105',\n",
              " 'V106',\n",
              " 'V107',\n",
              " 'V108',\n",
              " 'V109',\n",
              " 'V110',\n",
              " 'V111',\n",
              " 'V112',\n",
              " 'V113',\n",
              " 'V114',\n",
              " 'V115',\n",
              " 'V116',\n",
              " 'V117',\n",
              " 'V118',\n",
              " 'V119',\n",
              " 'V120',\n",
              " 'V121',\n",
              " 'V122',\n",
              " 'V123',\n",
              " 'V124',\n",
              " 'V125',\n",
              " 'V126',\n",
              " 'V127',\n",
              " 'V128',\n",
              " 'V129',\n",
              " 'V130',\n",
              " 'V131',\n",
              " 'V132',\n",
              " 'V133',\n",
              " 'V134',\n",
              " 'V135',\n",
              " 'V136',\n",
              " 'V137',\n",
              " 'V138',\n",
              " 'V139',\n",
              " 'V140',\n",
              " 'V141',\n",
              " 'V142',\n",
              " 'V143',\n",
              " 'V144',\n",
              " 'V145',\n",
              " 'V146',\n",
              " 'V147',\n",
              " 'V148',\n",
              " 'V149',\n",
              " 'V150',\n",
              " 'V151',\n",
              " 'V152',\n",
              " 'V153',\n",
              " 'V154',\n",
              " 'V155',\n",
              " 'V156',\n",
              " 'V157',\n",
              " 'V158',\n",
              " 'V159',\n",
              " 'V160',\n",
              " 'V161',\n",
              " 'V162',\n",
              " 'V163',\n",
              " 'V164',\n",
              " 'V165',\n",
              " 'V166',\n",
              " 'V167',\n",
              " 'V168',\n",
              " 'V169',\n",
              " 'V170',\n",
              " 'V171',\n",
              " 'V172',\n",
              " 'V173',\n",
              " 'V174',\n",
              " 'V175',\n",
              " 'V176',\n",
              " 'V177',\n",
              " 'V178',\n",
              " 'V179',\n",
              " 'V180',\n",
              " 'V181',\n",
              " 'V182',\n",
              " 'V183',\n",
              " 'V184',\n",
              " 'V185',\n",
              " 'V186',\n",
              " 'V187',\n",
              " 'V188',\n",
              " 'V189',\n",
              " 'V190',\n",
              " 'V191',\n",
              " 'V192',\n",
              " 'V193',\n",
              " 'V194',\n",
              " 'V195',\n",
              " 'V196',\n",
              " 'V197',\n",
              " 'V198',\n",
              " 'V199',\n",
              " 'V200',\n",
              " 'V201',\n",
              " 'V202',\n",
              " 'V203',\n",
              " 'V204',\n",
              " 'V205',\n",
              " 'V206',\n",
              " 'V207',\n",
              " 'V208',\n",
              " 'V209',\n",
              " 'V210',\n",
              " 'V211',\n",
              " 'V212',\n",
              " 'V213',\n",
              " 'V214',\n",
              " 'V215',\n",
              " 'V216',\n",
              " 'V217',\n",
              " 'V218',\n",
              " 'V219',\n",
              " 'V220',\n",
              " 'V221',\n",
              " 'V222',\n",
              " 'V223',\n",
              " 'V224',\n",
              " 'V225',\n",
              " 'V226',\n",
              " 'V227',\n",
              " 'V228',\n",
              " 'V229',\n",
              " 'V230',\n",
              " 'V231',\n",
              " 'V232',\n",
              " 'V233',\n",
              " 'V234',\n",
              " 'V235',\n",
              " 'V236',\n",
              " 'V237',\n",
              " 'V238',\n",
              " 'V239',\n",
              " 'V240',\n",
              " 'V241',\n",
              " 'V242',\n",
              " 'V243',\n",
              " 'V244',\n",
              " 'V245',\n",
              " 'V246',\n",
              " 'V247',\n",
              " 'V248',\n",
              " 'V249',\n",
              " 'V250',\n",
              " 'V251',\n",
              " 'V252',\n",
              " 'V253',\n",
              " 'V254',\n",
              " 'V255',\n",
              " 'V256',\n",
              " 'V257',\n",
              " 'V258',\n",
              " 'V259',\n",
              " 'V260',\n",
              " 'V261',\n",
              " 'V262',\n",
              " 'V263',\n",
              " 'V264',\n",
              " 'V265',\n",
              " 'V266',\n",
              " 'V267',\n",
              " 'V268',\n",
              " 'V269',\n",
              " 'V270',\n",
              " 'V271',\n",
              " 'V272',\n",
              " 'V273',\n",
              " 'V274',\n",
              " 'V275',\n",
              " 'V276',\n",
              " 'V277',\n",
              " 'V278',\n",
              " 'V279',\n",
              " 'V280',\n",
              " 'V281',\n",
              " 'V282',\n",
              " 'V283',\n",
              " 'V284',\n",
              " 'V285',\n",
              " 'V286',\n",
              " 'V287',\n",
              " 'V288',\n",
              " 'V289',\n",
              " 'V290',\n",
              " 'V291',\n",
              " 'V292',\n",
              " 'V293',\n",
              " 'V294',\n",
              " 'V295',\n",
              " 'V296',\n",
              " 'V297',\n",
              " 'V298',\n",
              " 'V299',\n",
              " 'V300',\n",
              " 'V301',\n",
              " 'V302',\n",
              " 'V303',\n",
              " 'V304',\n",
              " 'V305',\n",
              " 'V306',\n",
              " 'V307',\n",
              " 'V308',\n",
              " 'V309',\n",
              " 'V310',\n",
              " 'V311',\n",
              " 'V312',\n",
              " 'V313',\n",
              " 'V314',\n",
              " 'V315',\n",
              " 'V316',\n",
              " 'V317',\n",
              " 'V318',\n",
              " 'V319',\n",
              " 'V320',\n",
              " 'V321',\n",
              " 'V322',\n",
              " 'V323',\n",
              " 'V324',\n",
              " 'V325',\n",
              " 'V326',\n",
              " 'V327',\n",
              " 'V328',\n",
              " 'V329',\n",
              " 'V330',\n",
              " 'V331',\n",
              " 'V332',\n",
              " 'V333',\n",
              " 'V334',\n",
              " 'V335',\n",
              " 'V336',\n",
              " 'V337',\n",
              " 'V338',\n",
              " 'V339',\n",
              " 'id_01',\n",
              " 'id_02',\n",
              " 'id_03',\n",
              " 'id_04',\n",
              " 'id_05',\n",
              " 'id_06',\n",
              " 'id_07',\n",
              " 'id_08',\n",
              " 'id_09',\n",
              " 'id_10',\n",
              " 'id_11',\n",
              " 'id_12',\n",
              " 'id_13',\n",
              " 'id_14',\n",
              " 'id_15',\n",
              " 'id_16',\n",
              " 'id_17',\n",
              " 'id_18',\n",
              " 'id_19',\n",
              " 'id_20',\n",
              " 'id_21',\n",
              " 'id_22',\n",
              " 'id_23',\n",
              " 'id_24',\n",
              " 'id_25',\n",
              " 'id_26',\n",
              " 'id_27',\n",
              " 'id_28',\n",
              " 'id_29',\n",
              " 'id_30',\n",
              " 'id_31',\n",
              " 'id_32',\n",
              " 'id_33',\n",
              " 'id_34',\n",
              " 'id_35',\n",
              " 'id_36',\n",
              " 'id_37',\n",
              " 'id_38',\n",
              " 'DeviceType',\n",
              " 'DeviceInfo']"
            ]
          },
          "metadata": {
            "tags": []
          },
          "execution_count": 32
        }
      ]
    },
    {
      "cell_type": "code",
      "metadata": {
        "id": "txKL0fL0E47Q",
        "colab_type": "code",
        "outputId": "2e01d6a4-b703-49b2-f21d-cdcda35f90cb",
        "colab": {
          "base_uri": "https://localhost:8080/",
          "height": 1000
        }
      },
      "source": [
        "for i in range(1, 10):\n",
        "    print(train['id_0' + str(i)].value_counts(dropna=False, normalize=True).head())\n",
        "    print('\\n')\n",
        "    \n",
        "for i in range(10, 39):\n",
        "    print(train['id_' + str(i)].value_counts(dropna=False, normalize=True).head())\n",
        "    print('\\n')"
      ],
      "execution_count": 33,
      "outputs": [
        {
          "output_type": "stream",
          "text": [
            " NaN     0.755761\n",
            "-5.0     0.139144\n",
            " 0.0     0.033114\n",
            "-10.0    0.019062\n",
            "-20.0    0.018984\n",
            "Name: id_01, dtype: float64\n",
            "\n",
            "\n",
            "NaN       0.761452\n",
            "1102.0    0.000019\n",
            "696.0     0.000017\n",
            "1116.0    0.000015\n",
            "1120.0    0.000015\n",
            "Name: id_02, dtype: float64\n",
            "\n",
            "\n",
            "NaN    0.887689\n",
            "0.0    0.108211\n",
            "1.0    0.001461\n",
            "3.0    0.001131\n",
            "2.0    0.000713\n",
            "Name: id_03, dtype: float64\n",
            "\n",
            "\n",
            " NaN    0.887689\n",
            " 0.0    0.111320\n",
            "-5.0    0.000224\n",
            "-6.0    0.000166\n",
            "-8.0    0.000108\n",
            "Name: id_04, dtype: float64\n",
            "\n",
            "\n",
            "NaN    0.768238\n",
            "0.0    0.157048\n",
            "1.0    0.014043\n",
            "2.0    0.008360\n",
            "3.0    0.006526\n",
            "Name: id_05, dtype: float64\n",
            "\n",
            "\n",
            " NaN    0.768238\n",
            " 0.0    0.154647\n",
            "-1.0    0.007937\n",
            "-5.0    0.006518\n",
            "-6.0    0.005515\n",
            "Name: id_06, dtype: float64\n",
            "\n",
            "\n",
            "NaN     0.991271\n",
            "0.0     0.000693\n",
            "16.0    0.000415\n",
            "14.0    0.000386\n",
            "12.0    0.000352\n",
            "Name: id_07, dtype: float64\n",
            "\n",
            "\n",
            " NaN      0.991271\n",
            "-100.0    0.000847\n",
            " 0.0      0.000442\n",
            "-34.0     0.000435\n",
            "-33.0     0.000354\n",
            "Name: id_08, dtype: float64\n",
            "\n",
            "\n",
            "NaN    0.873123\n",
            "0.0    0.119176\n",
            "1.0    0.002736\n",
            "3.0    0.001636\n",
            "2.0    0.001309\n",
            "Name: id_09, dtype: float64\n",
            "\n",
            "\n",
            " NaN    0.873123\n",
            " 0.0    0.123411\n",
            "-6.0    0.000500\n",
            "-5.0    0.000418\n",
            "-1.0    0.000339\n",
            "Name: id_10, dtype: float64\n",
            "\n",
            "\n",
            "NaN           0.761273\n",
            "100.000000    0.225492\n",
            "95.080002     0.002085\n",
            "95.160004     0.001277\n",
            "97.120003     0.000745\n",
            "Name: id_11, dtype: float64\n",
            "\n",
            "\n",
            "NaN         0.755761\n",
            "NotFound    0.208326\n",
            "Found       0.035913\n",
            "Name: id_12, dtype: float64\n",
            "\n",
            "\n",
            "NaN     0.784401\n",
            "52.0    0.098383\n",
            "49.0    0.044646\n",
            "64.0    0.024434\n",
            "33.0    0.017015\n",
            "Name: id_13, dtype: float64\n",
            "\n",
            "\n",
            " NaN      0.864456\n",
            "-300.0    0.074713\n",
            "-360.0    0.028213\n",
            "-480.0    0.021829\n",
            "-420.0    0.007691\n",
            "Name: id_14, dtype: float64\n",
            "\n",
            "\n",
            "NaN        0.761261\n",
            "Found      0.114688\n",
            "New        0.104332\n",
            "Unknown    0.019719\n",
            "Name: id_15, dtype: float64\n",
            "\n",
            "\n",
            "NaN         0.780980\n",
            "Found       0.112311\n",
            "NotFound    0.106709\n",
            "Name: id_16, dtype: float64\n",
            "\n",
            "\n",
            "NaN      0.763997\n",
            "166.0    0.133151\n",
            "225.0    0.096468\n",
            "102.0    0.001167\n",
            "159.0    0.000596\n",
            "Name: id_17, dtype: float64\n",
            "\n",
            "\n",
            "NaN     0.923607\n",
            "15.0    0.043162\n",
            "13.0    0.022757\n",
            "12.0    0.007884\n",
            "18.0    0.001101\n",
            "Name: id_18, dtype: float64\n",
            "\n",
            "\n",
            "NaN      0.764084\n",
            "266.0    0.033612\n",
            "410.0    0.019166\n",
            "427.0    0.014915\n",
            "529.0    0.013754\n",
            "Name: id_19, dtype: float64\n",
            "\n",
            "\n",
            "NaN      0.764180\n",
            "507.0    0.037781\n",
            "222.0    0.018737\n",
            "325.0    0.013772\n",
            "533.0    0.011195\n",
            "Name: id_20, dtype: float64\n",
            "\n",
            "\n",
            "NaN      0.991264\n",
            "252.0    0.004305\n",
            "228.0    0.000405\n",
            "255.0    0.000185\n",
            "596.0    0.000174\n",
            "Name: id_21, dtype: float64\n",
            "\n",
            "\n",
            "NaN     0.991247\n",
            "14.0    0.008020\n",
            "41.0    0.000544\n",
            "33.0    0.000064\n",
            "21.0    0.000012\n",
            "Name: id_22, dtype: float64\n",
            "\n",
            "\n",
            "NaN                     0.991247\n",
            "IP_PROXY:TRANSPARENT    0.005908\n",
            "IP_PROXY:ANONYMOUS      0.001814\n",
            "IP_PROXY:HIDDEN         0.001031\n",
            "Name: id_23, dtype: float64\n",
            "\n",
            "\n",
            "NaN     0.991962\n",
            "11.0    0.004770\n",
            "15.0    0.002699\n",
            "16.0    0.000373\n",
            "18.0    0.000063\n",
            "Name: id_24, dtype: float64\n",
            "\n",
            "\n",
            "NaN      0.991310\n",
            "321.0    0.004223\n",
            "205.0    0.000510\n",
            "426.0    0.000400\n",
            "501.0    0.000174\n",
            "Name: id_25, dtype: float64\n",
            "\n",
            "\n",
            "NaN      0.991257\n",
            "161.0    0.001395\n",
            "184.0    0.000986\n",
            "142.0    0.000894\n",
            "102.0    0.000764\n",
            "Name: id_26, dtype: float64\n",
            "\n",
            "\n",
            "NaN         0.991247\n",
            "Found       0.008729\n",
            "NotFound    0.000024\n",
            "Name: id_27, dtype: float64\n",
            "\n",
            "\n",
            "NaN      0.761273\n",
            "Found    0.129089\n",
            "New      0.109639\n",
            "Name: id_28, dtype: float64\n",
            "\n",
            "\n",
            "NaN         0.761273\n",
            "Found       0.126877\n",
            "NotFound    0.111850\n",
            "Name: id_29, dtype: float64\n",
            "\n",
            "\n",
            "NaN           0.868654\n",
            "Windows 10    0.035823\n",
            "Windows 7     0.022200\n",
            "iOS 11.2.1    0.006303\n",
            "iOS 11.1.2    0.006264\n",
            "Name: id_30, dtype: float64\n",
            "\n",
            "\n",
            "NaN                      0.762451\n",
            "chrome 63.0              0.037254\n",
            "mobile safari 11.0       0.022730\n",
            "mobile safari generic    0.019430\n",
            "ie 11.0 for desktop      0.015291\n",
            "Name: id_31, dtype: float64\n",
            "\n",
            "\n",
            "NaN     0.868619\n",
            "24.0    0.089869\n",
            "32.0    0.041366\n",
            "16.0    0.000137\n",
            "0.0     0.000010\n",
            "Name: id_32, dtype: float64\n",
            "\n",
            "\n",
            "NaN          0.875895\n",
            "1920x1080    0.028574\n",
            "1366x768     0.014571\n",
            "1334x750     0.010917\n",
            "2208x1242    0.008297\n",
            "Name: id_33, dtype: float64\n",
            "\n",
            "\n",
            "NaN                0.868248\n",
            "match_status:2     0.101621\n",
            "match_status:1     0.029424\n",
            "match_status:0     0.000703\n",
            "match_status:-1    0.000005\n",
            "Name: id_34, dtype: float64\n",
            "\n",
            "\n",
            "NaN    0.761261\n",
            "T      0.131768\n",
            "F      0.106972\n",
            "Name: id_35, dtype: float64\n",
            "\n",
            "\n",
            "NaN    0.761261\n",
            "F      0.227023\n",
            "T      0.011716\n",
            "Name: id_36, dtype: float64\n",
            "\n",
            "\n",
            "NaN    0.761261\n",
            "T      0.187036\n",
            "F      0.051704\n",
            "Name: id_37, dtype: float64\n",
            "\n",
            "\n",
            "NaN    0.761261\n",
            "F      0.125177\n",
            "T      0.113562\n",
            "Name: id_38, dtype: float64\n",
            "\n",
            "\n"
          ],
          "name": "stdout"
        }
      ]
    },
    {
      "cell_type": "markdown",
      "metadata": {
        "id": "wCkTNRBpE47Y",
        "colab_type": "text"
      },
      "source": [
        "Let's visualize the categorical ones which are:\n",
        "\n",
        "['id_12', 'id_15', 'id_16', 'id_23', 'id_27', 'id_28', 'id_29', 'id_30', 'id_31', 'id_33', 'id_34', 'id_35', 'id_36', 'id_37', 'id_38']"
      ]
    },
    {
      "cell_type": "code",
      "metadata": {
        "id": "E2R1eYarE47b",
        "colab_type": "code",
        "colab": {}
      },
      "source": [
        "charts = {}\n",
        "info = []\n",
        "for i in range(12, 39):\n",
        "    info.append('id_' + str(i))\n",
        "for i in info:\n",
        "    width_len = 400\n",
        "    if i in ['id_30', 'id_31', 'id_33']:\n",
        "        width_len = 600\n",
        "    feature_count = train[i].value_counts(dropna=False).reset_index().rename(columns={i: 'count', 'index': i})\n",
        "    chart = alt.Chart(feature_count).mark_bar().encode(\n",
        "                y=alt.Y(f\"{i}:N\", axis=alt.Axis(title=i)),\n",
        "                x=alt.X('count:Q', axis=alt.Axis(title='Count')),\n",
        "                tooltip=[i, 'count']\n",
        "            ).properties(title=f\"Counts of {i}\", width=width_len)\n",
        "    charts[i] = chart                         \n",
        "\n",
        "\n",
        "for i in ['id_30', 'id_31', 'id_33']:\n",
        "    feature_count = train[i].value_counts(dropna=False)[:40].reset_index().rename(columns={i: 'count', 'index': i})\n",
        "    chart = alt.Chart(feature_count).mark_bar().encode(\n",
        "                x=alt.X(f\"{i}:N\", axis=alt.Axis(title=i)),\n",
        "                y=alt.Y('count:Q', axis=alt.Axis(title='Count')),\n",
        "                tooltip=[i, 'count']\n",
        "            ).properties(title=f\"Counts of {i}\", width=800)\n",
        "    charts[i] = chart\n",
        "    \n",
        "# render((charts['id_12'] | charts['id_15']) & \n",
        "#       (charts['id_16'] | charts['id_23']) & \n",
        "#       (charts['id_27'] | charts['id_28']) & \n",
        "#       (charts['id_29'] | charts['id_34']) & \n",
        "#       (charts['id_35'] | charts['id_36']) &\n",
        "#       (charts['id_37'] | charts['id_38']))"
      ],
      "execution_count": 0,
      "outputs": []
    },
    {
      "cell_type": "markdown",
      "metadata": {
        "id": "JviQTZC3E47l",
        "colab_type": "text"
      },
      "source": [
        "# Feature Engineering"
      ]
    },
    {
      "cell_type": "code",
      "metadata": {
        "id": "Ra0nuOf4E47o",
        "colab_type": "code",
        "colab": {}
      },
      "source": [
        "def seed_everything(seed=0):\n",
        "    random.seed(seed)\n",
        "    os.environ['PYTHONHASHSEED'] = str(seed)\n",
        "    np.random.seed(seed)"
      ],
      "execution_count": 0,
      "outputs": []
    },
    {
      "cell_type": "markdown",
      "metadata": {
        "id": "zIRn4CATE47z",
        "colab_type": "text"
      },
      "source": [
        "## Add New Features"
      ]
    },
    {
      "cell_type": "code",
      "metadata": {
        "id": "VC7hbx51E472",
        "colab_type": "code",
        "colab": {}
      },
      "source": [
        "SEED = 42\n",
        "seed_everything(SEED)\n",
        "TARGET = 'isFraud'\n",
        "START_DATE = datetime.datetime.strptime('2017-11-30', '%Y-%m-%d')"
      ],
      "execution_count": 0,
      "outputs": []
    },
    {
      "cell_type": "code",
      "metadata": {
        "id": "SRgc5V4YE48D",
        "colab_type": "code",
        "colab": {}
      },
      "source": [
        "def addNewFeatures(data): \n",
        "    data['uid'] = data['card1'].astype(str)+'_'+data['card2'].astype(str)\n",
        "\n",
        "    data['uid2'] = data['uid'].astype(str)+'_'+data['card3'].astype(str)+'_'+data['card5'].astype(str)\n",
        "\n",
        "    data['uid3'] = data['uid2'].astype(str)+'_'+data['addr1'].astype(str)+'_'+data['addr2'].astype(str)\n",
        "    \n",
        "    return data"
      ],
      "execution_count": 0,
      "outputs": []
    },
    {
      "cell_type": "code",
      "metadata": {
        "id": "v1Bi4sBQE48M",
        "colab_type": "code",
        "colab": {}
      },
      "source": [
        "train = addNewFeatures(train)\n",
        "test = addNewFeatures(test)"
      ],
      "execution_count": 0,
      "outputs": []
    },
    {
      "cell_type": "code",
      "metadata": {
        "id": "9u6SReUTE48b",
        "colab_type": "code",
        "colab": {}
      },
      "source": [
        "i_cols = ['card1','card2','card3','card5','uid','uid2','uid3']\n",
        "\n",
        "for col in i_cols:\n",
        "    for agg_type in ['mean','std']:\n",
        "        new_col_name = col+'_TransactionAmt_'+agg_type\n",
        "        temp_df = pd.concat([train[[col, 'TransactionAmt']], test[[col,'TransactionAmt']]])\n",
        "        #temp_df['TransactionAmt'] = temp_df['TransactionAmt'].astype(int)\n",
        "        temp_df = temp_df.groupby([col])['TransactionAmt'].agg([agg_type]).reset_index().rename(\n",
        "                                                columns={agg_type: new_col_name})\n",
        "\n",
        "        temp_df.index = list(temp_df[col])\n",
        "        temp_df = temp_df[new_col_name].to_dict()   \n",
        "\n",
        "        train[new_col_name] = train[col].map(temp_df)\n",
        "        test[new_col_name]  = test[col].map(temp_df)"
      ],
      "execution_count": 0,
      "outputs": []
    },
    {
      "cell_type": "code",
      "metadata": {
        "id": "YZkGwdJYE48l",
        "colab_type": "code",
        "colab": {}
      },
      "source": [
        "train = train.replace(np.inf,999)\n",
        "test = test.replace(np.inf,999)"
      ],
      "execution_count": 0,
      "outputs": []
    },
    {
      "cell_type": "code",
      "metadata": {
        "id": "_D9WHhGTE48u",
        "colab_type": "code",
        "colab": {}
      },
      "source": [
        "train['TransactionAmt'] = np.log1p(train['TransactionAmt'])\n",
        "test['TransactionAmt'] = np.log1p(test['TransactionAmt'])"
      ],
      "execution_count": 0,
      "outputs": []
    },
    {
      "cell_type": "markdown",
      "metadata": {
        "id": "dPlhukzFE487",
        "colab_type": "text"
      },
      "source": [
        "## Handle Email Domains\n",
        "As you may have noticed, for some companies there are several email addresses. For a better analysis we will consider them same as each other."
      ]
    },
    {
      "cell_type": "code",
      "metadata": {
        "id": "lEKK6w6rE48-",
        "colab_type": "code",
        "colab": {}
      },
      "source": [
        "emails = {'gmail': 'google', 'att.net': 'att', 'twc.com': 'spectrum', 'scranton.edu': 'other', 'optonline.net': 'other',\n",
        "          'hotmail.co.uk': 'microsoft', 'comcast.net': 'other', 'yahoo.com.mx': 'yahoo', 'yahoo.fr': 'yahoo',\n",
        "          'yahoo.es': 'yahoo', 'charter.net': 'spectrum', 'live.com': 'microsoft', 'aim.com': 'aol', 'hotmail.de': 'microsoft',\n",
        "          'centurylink.net': 'centurylink', 'gmail.com': 'google', 'me.com': 'apple', 'earthlink.net': 'other', \n",
        "          'gmx.de': 'other', 'web.de': 'other', 'cfl.rr.com': 'other', 'hotmail.com': 'microsoft', 'protonmail.com': 'other',\n",
        "          'hotmail.fr': 'microsoft', 'windstream.net': 'other', 'outlook.es': 'microsoft', 'yahoo.co.jp': 'yahoo',\n",
        "          'yahoo.de': 'yahoo', 'servicios-ta.com': 'other', 'netzero.net': 'other', 'suddenlink.net': 'other',\n",
        "          'roadrunner.com': 'other', 'sc.rr.com': 'other', 'live.fr': 'microsoft', 'verizon.net': 'yahoo',\n",
        "          'msn.com': 'microsoft', 'q.com': 'centurylink', 'prodigy.net.mx': 'att', 'frontier.com': 'yahoo',\n",
        "          'anonymous.com': 'other', 'rocketmail.com': 'yahoo', 'sbcglobal.net': 'att', 'frontiernet.net': 'yahoo',\n",
        "          'ymail.com': 'yahoo', 'outlook.com': 'microsoft', 'mail.com': 'other', 'bellsouth.net': 'other',\n",
        "          'embarqmail.com': 'centurylink', 'cableone.net': 'other', 'hotmail.es': 'microsoft', 'mac.com': 'apple',\n",
        "          'yahoo.co.uk': 'yahoo', 'netzero.com': 'other', 'yahoo.com': 'yahoo', 'live.com.mx': 'microsoft', 'ptd.net': 'other',\n",
        "          'cox.net': 'other', 'aol.com': 'aol', 'juno.com': 'other', 'icloud.com': 'apple'}\n",
        "us_emails = ['gmail', 'net', 'edu']\n",
        "\n",
        "for c in ['P_emaildomain', 'R_emaildomain']:\n",
        "    train[c + '_bin'] = train[c].map(emails)\n",
        "    test[c + '_bin'] = test[c].map(emails)\n",
        "    \n",
        "    train[c + '_suffix'] = train[c].map(lambda x: str(x).split('.')[-1])\n",
        "    test[c + '_suffix'] = test[c].map(lambda x: str(x).split('.')[-1])\n",
        "    \n",
        "    train[c + '_suffix'] = train[c + '_suffix'].map(lambda x: x if str(x) not in us_emails else 'us')\n",
        "    test[c + '_suffix'] = test[c + '_suffix'].map(lambda x: x if str(x) not in us_emails else 'us')"
      ],
      "execution_count": 0,
      "outputs": []
    },
    {
      "cell_type": "markdown",
      "metadata": {
        "id": "wegu5uUeE49M",
        "colab_type": "text"
      },
      "source": [
        "Handle P Email Domain and R Email Domain"
      ]
    },
    {
      "cell_type": "code",
      "metadata": {
        "id": "RH3rQdBBE49P",
        "colab_type": "code",
        "colab": {}
      },
      "source": [
        "p = 'P_emaildomain'\n",
        "r = 'R_emaildomain'\n",
        "uknown = 'email_not_provided'\n",
        "\n",
        "def setDomain(df):\n",
        "    df[p] = df[p].fillna(uknown)\n",
        "    df[r] = df[r].fillna(uknown)\n",
        "    \n",
        "    # Check if P_emaildomain matches R_emaildomain\n",
        "    df['email_check'] = np.where((df[p]==df[r])&(df[p]!=uknown),1,0)\n",
        "\n",
        "    df[p+'_prefix'] = df[p].apply(lambda x: x.split('.')[0])\n",
        "    df[r+'_prefix'] = df[r].apply(lambda x: x.split('.')[0])\n",
        "    \n",
        "    return df\n",
        "    \n",
        "train=setDomain(train)\n",
        "test=setDomain(test)"
      ],
      "execution_count": 0,
      "outputs": []
    },
    {
      "cell_type": "markdown",
      "metadata": {
        "id": "Da5Nl-tvE49d",
        "colab_type": "text"
      },
      "source": [
        "Set Time"
      ]
    },
    {
      "cell_type": "code",
      "metadata": {
        "id": "P8GTcvkgE49t",
        "colab_type": "code",
        "colab": {}
      },
      "source": [
        "def setTime(df):\n",
        "    df['TransactionDT'] = df['TransactionDT'].fillna(df['TransactionDT'].median())\n",
        "    # Temporary\n",
        "    df['DT'] = df['TransactionDT'].apply(lambda x: (START_DATE + datetime.timedelta(seconds = x)))\n",
        "    df['DT_M'] = (df['DT'].dt.year-2017)*12 + df['DT'].dt.month\n",
        "    df['DT_W'] = (df['DT'].dt.year-2017)*52 + df['DT'].dt.weekofyear\n",
        "    df['DT_D'] = (df['DT'].dt.year-2017)*365 + df['DT'].dt.dayofyear\n",
        "    \n",
        "    df['DT_hour'] = df['DT'].dt.hour\n",
        "    df['DT_day_week'] = df['DT'].dt.dayofweek\n",
        "    df['DT_day'] = df['DT'].dt.day\n",
        "    \n",
        "    # Lets transform D8 and D9 column\n",
        "    # As we almost sure it has connection with hours\n",
        "    df['D9_not_na'] = np.where(df['D9'].isna(),0,1)\n",
        "    df['D8_not_same_day'] = np.where(df['D8']>=1,1,0)\n",
        "    df['D8_D9_decimal_dist'] = df['D8'].fillna(0)-df['D8'].fillna(0).astype(int)\n",
        "    df['D8_D9_decimal_dist'] = ((df['D8_D9_decimal_dist']-df['D9'])**2)**0.5\n",
        "    df['D8'] = df['D8'].fillna(-1).astype(int)\n",
        "\n",
        "    return df\n",
        "    \n",
        "train=setTime(train)\n",
        "test=setTime(test)"
      ],
      "execution_count": 0,
      "outputs": []
    },
    {
      "cell_type": "markdown",
      "metadata": {
        "id": "wx9zDGtYE491",
        "colab_type": "text"
      },
      "source": [
        "Handle Browser version"
      ]
    },
    {
      "cell_type": "code",
      "metadata": {
        "id": "1rCjQoo2E494",
        "colab_type": "code",
        "colab": {}
      },
      "source": [
        "train[\"lastest_browser\"] = np.zeros(train.shape[0])\n",
        "test[\"lastest_browser\"] = np.zeros(test.shape[0])\n",
        "\n",
        "def setBrowser(df):\n",
        "    df.loc[df[\"id_31\"]==\"samsung browser 7.0\",'lastest_browser']=1\n",
        "    df.loc[df[\"id_31\"]==\"opera 53.0\",'lastest_browser']=1\n",
        "    df.loc[df[\"id_31\"]==\"mobile safari 10.0\",'lastest_browser']=1\n",
        "    df.loc[df[\"id_31\"]==\"google search application 49.0\",'lastest_browser']=1\n",
        "    df.loc[df[\"id_31\"]==\"firefox 60.0\",'lastest_browser']=1\n",
        "    df.loc[df[\"id_31\"]==\"edge 17.0\",'lastest_browser']=1\n",
        "    df.loc[df[\"id_31\"]==\"chrome 69.0\",'lastest_browser']=1\n",
        "    df.loc[df[\"id_31\"]==\"chrome 67.0 for android\",'lastest_browser']=1\n",
        "    df.loc[df[\"id_31\"]==\"chrome 63.0 for android\",'lastest_browser']=1\n",
        "    df.loc[df[\"id_31\"]==\"chrome 63.0 for ios\",'lastest_browser']=1\n",
        "    df.loc[df[\"id_31\"]==\"chrome 64.0\",'lastest_browser']=1\n",
        "    df.loc[df[\"id_31\"]==\"chrome 64.0 for android\",'lastest_browser']=1\n",
        "    df.loc[df[\"id_31\"]==\"chrome 64.0 for ios\",'lastest_browser']=1\n",
        "    df.loc[df[\"id_31\"]==\"chrome 65.0\",'lastest_browser']=1\n",
        "    df.loc[df[\"id_31\"]==\"chrome 65.0 for android\",'lastest_browser']=1\n",
        "    df.loc[df[\"id_31\"]==\"chrome 65.0 for ios\",'lastest_browser']=1\n",
        "    df.loc[df[\"id_31\"]==\"chrome 66.0\",'lastest_browser']=1\n",
        "    df.loc[df[\"id_31\"]==\"chrome 66.0 for android\",'lastest_browser']=1\n",
        "    df.loc[df[\"id_31\"]==\"chrome 66.0 for ios\",'lastest_browser']=1\n",
        "    return df\n",
        "\n",
        "train=setBrowser(train)\n",
        "test=setBrowser(test)"
      ],
      "execution_count": 0,
      "outputs": []
    },
    {
      "cell_type": "markdown",
      "metadata": {
        "id": "koIgpRDzE4-A",
        "colab_type": "text"
      },
      "source": [
        "Handle Device Type"
      ]
    },
    {
      "cell_type": "code",
      "metadata": {
        "id": "V89HIDpnE4-E",
        "colab_type": "code",
        "colab": {}
      },
      "source": [
        "def setDevice(df):\n",
        "    df['DeviceInfo'] = df['DeviceInfo'].fillna('unknown_device').str.lower()\n",
        "    \n",
        "    df['device_name'] = df['DeviceInfo'].str.split('/', expand=True)[0]\n",
        "\n",
        "    df.loc[df['device_name'].str.contains('SM', na=False), 'device_name'] = 'Samsung'\n",
        "    df.loc[df['device_name'].str.contains('SAMSUNG', na=False), 'device_name'] = 'Samsung'\n",
        "    df.loc[df['device_name'].str.contains('GT-', na=False), 'device_name'] = 'Samsung'\n",
        "    df.loc[df['device_name'].str.contains('Moto G', na=False), 'device_name'] = 'Motorola'\n",
        "    df.loc[df['device_name'].str.contains('Moto', na=False), 'device_name'] = 'Motorola'\n",
        "    df.loc[df['device_name'].str.contains('moto', na=False), 'device_name'] = 'Motorola'\n",
        "    df.loc[df['device_name'].str.contains('LG-', na=False), 'device_name'] = 'LG'\n",
        "    df.loc[df['device_name'].str.contains('rv:', na=False), 'device_name'] = 'RV'\n",
        "    df.loc[df['device_name'].str.contains('HUAWEI', na=False), 'device_name'] = 'Huawei'\n",
        "    df.loc[df['device_name'].str.contains('ALE-', na=False), 'device_name'] = 'Huawei'\n",
        "    df.loc[df['device_name'].str.contains('-L', na=False), 'device_name'] = 'Huawei'\n",
        "    df.loc[df['device_name'].str.contains('Blade', na=False), 'device_name'] = 'ZTE'\n",
        "    df.loc[df['device_name'].str.contains('BLADE', na=False), 'device_name'] = 'ZTE'\n",
        "    df.loc[df['device_name'].str.contains('Linux', na=False), 'device_name'] = 'Linux'\n",
        "    df.loc[df['device_name'].str.contains('XT', na=False), 'device_name'] = 'Sony'\n",
        "    df.loc[df['device_name'].str.contains('HTC', na=False), 'device_name'] = 'HTC'\n",
        "    df.loc[df['device_name'].str.contains('ASUS', na=False), 'device_name'] = 'Asus'\n",
        "\n",
        "    df.loc[df.device_name.isin(df.device_name.value_counts()[df.device_name.value_counts() < 200].index), 'device_name'] = \"Others\"\n",
        "    df['had_id'] = 1\n",
        "    gc.collect()\n",
        "    \n",
        "    return df\n",
        "\n",
        "train=setDevice(train)\n",
        "test=setDevice(test)"
      ],
      "execution_count": 0,
      "outputs": []
    },
    {
      "cell_type": "markdown",
      "metadata": {
        "id": "Rg2o270HE4-Y",
        "colab_type": "text"
      },
      "source": [
        "Set Frequency"
      ]
    },
    {
      "cell_type": "code",
      "metadata": {
        "id": "utZz9uFGE4-h",
        "colab_type": "code",
        "colab": {}
      },
      "source": [
        "i_cols = ['card1','card2','card3','card5',\n",
        "          'C1','C2','C3','C4','C5','C6','C7','C8','C9','C10','C11','C12','C13','C14',\n",
        "          'D1','D2','D3','D4','D5','D6','D7','D8',\n",
        "          'addr1','addr2',\n",
        "          'dist1','dist2',\n",
        "          'P_emaildomain', 'R_emaildomain',\n",
        "          'DeviceInfo','device_name',\n",
        "          'id_30','id_33',\n",
        "          'uid','uid2','uid3',\n",
        "         ]\n",
        "\n",
        "for col in i_cols:\n",
        "    temp_df = pd.concat([train[[col]], test[[col]]])\n",
        "    fq_encode = temp_df[col].value_counts(dropna=False).to_dict()   \n",
        "    train[col+'_fq_enc'] = train[col].map(fq_encode)\n",
        "    test[col+'_fq_enc']  = test[col].map(fq_encode)\n",
        "\n",
        "\n",
        "for col in ['DT_M','DT_W','DT_D']:\n",
        "    temp_df = pd.concat([train[[col]], test[[col]]])\n",
        "    fq_encode = temp_df[col].value_counts().to_dict()\n",
        "            \n",
        "    train[col+'_total'] = train[col].map(fq_encode)\n",
        "    test[col+'_total']  = test[col].map(fq_encode)\n",
        "\n",
        "periods = ['DT_M','DT_W','DT_D']\n",
        "i_cols = ['uid']\n",
        "for period in periods:\n",
        "    for col in i_cols:\n",
        "        new_column = col + '_' + period\n",
        "            \n",
        "        temp_df = pd.concat([train[[col,period]], test[[col,period]]])\n",
        "        temp_df[new_column] = temp_df[col].astype(str) + '_' + (temp_df[period]).astype(str)\n",
        "        fq_encode = temp_df[new_column].value_counts().to_dict()\n",
        "            \n",
        "        train[new_column] = (train[col].astype(str) + '_' + train[period].astype(str)).map(fq_encode)\n",
        "        test[new_column]  = (test[col].astype(str) + '_' + test[period].astype(str)).map(fq_encode)\n",
        "        \n",
        "        train[new_column] /= train[period+'_total']\n",
        "        test[new_column]  /= test[period+'_total']"
      ],
      "execution_count": 0,
      "outputs": []
    },
    {
      "cell_type": "code",
      "metadata": {
        "id": "6iGo0P9-d3k2",
        "colab_type": "code",
        "outputId": "f6543275-1feb-4e08-aa92-7c17bd54f5b2",
        "colab": {
          "base_uri": "https://localhost:8080/",
          "height": 34
        }
      },
      "source": [
        "train.shape"
      ],
      "execution_count": 48,
      "outputs": [
        {
          "output_type": "execute_result",
          "data": {
            "text/plain": [
              "(590540, 516)"
            ]
          },
          "metadata": {
            "tags": []
          },
          "execution_count": 48
        }
      ]
    },
    {
      "cell_type": "code",
      "metadata": {
        "id": "q98ndzdYd8HO",
        "colab_type": "code",
        "outputId": "129f6342-cdee-44b0-c0ee-ac2d09aff4bf",
        "colab": {
          "base_uri": "https://localhost:8080/",
          "height": 34
        }
      },
      "source": [
        "test.shape"
      ],
      "execution_count": 49,
      "outputs": [
        {
          "output_type": "execute_result",
          "data": {
            "text/plain": [
              "(506691, 515)"
            ]
          },
          "metadata": {
            "tags": []
          },
          "execution_count": 49
        }
      ]
    },
    {
      "cell_type": "markdown",
      "metadata": {
        "id": "YXmP61L1E4-6",
        "colab_type": "text"
      },
      "source": [
        "## Prepare Data for Train"
      ]
    },
    {
      "cell_type": "code",
      "metadata": {
        "id": "Tc540rySE4--",
        "colab_type": "code",
        "colab": {}
      },
      "source": [
        "train = train.drop(cols_to_drop, axis=1)\n"
      ],
      "execution_count": 0,
      "outputs": []
    },
    {
      "cell_type": "code",
      "metadata": {
        "id": "V-5fdHHvE4_K",
        "colab_type": "code",
        "colab": {}
      },
      "source": [
        "class ModifiedLabelEncoder(LabelEncoder):\n",
        "    def fit_transform(self, y, *args, **kwargs):\n",
        "        return super().fit_transform(y).reshape(-1, 1)\n",
        "\n",
        "    def transform(self, y, *args, **kwargs):\n",
        "        return super().transform(y).reshape(-1, 1)"
      ],
      "execution_count": 0,
      "outputs": []
    },
    {
      "cell_type": "code",
      "metadata": {
        "id": "q9PVWEkqE4_T",
        "colab_type": "code",
        "colab": {}
      },
      "source": [
        "class DataFrameSelector(BaseEstimator, TransformerMixin):\n",
        "    def __init__(self, attr):\n",
        "        self.attributes = attr\n",
        "    def fit(self, X, y=None):\n",
        "        return self\n",
        "    def transform(self, X):\n",
        "        return X[self.attributes].values"
      ],
      "execution_count": 0,
      "outputs": []
    },
    {
      "cell_type": "code",
      "metadata": {
        "id": "a5_qGiGHE4_g",
        "colab_type": "code",
        "colab": {}
      },
      "source": [
        "noisy_cols = [\n",
        "    'TransactionID','TransactionDT',                      # Not target in features))\n",
        "    'uid','uid2','uid3',                                 \n",
        "    'DT','DT_M','DT_W','DT_D',       \n",
        "    'DT_hour','DT_day_week','DT_day',\n",
        "    'DT_D_total','DT_W_total','DT_M_total',\n",
        "    'id_30','id_31','id_33',\n",
        "    'D1', 'D2', 'D9',\n",
        "]\n",
        "\n",
        "noisy_cat_cols = list(train[noisy_cols].select_dtypes(include=['object']).columns) \n",
        "noisy_num_cold = list(train[noisy_cols].select_dtypes(exclude=['object']).columns)"
      ],
      "execution_count": 0,
      "outputs": []
    },
    {
      "cell_type": "code",
      "metadata": {
        "id": "VYzjLzhYE4_n",
        "colab_type": "code",
        "outputId": "6283b809-4730-48db-86ff-cc6cf2021aab",
        "colab": {
          "base_uri": "https://localhost:8080/",
          "height": 374
        }
      },
      "source": [
        "cat_attr = list(train.select_dtypes(include=['object']).columns)\n",
        "num_attr = list(train.select_dtypes(exclude=['object']).columns)\n",
        "num_attr.remove('isFraud')\n",
        "\n",
        "for col in noisy_cat_cols:\n",
        "    if col in cat_attr:\n",
        "        print(\"Deleting \" + col)\n",
        "        cat_attr.remove(col)\n",
        "for col in noisy_num_cold:\n",
        "    if col in num_attr:\n",
        "        print(\"Deleting \" + col)\n",
        "        num_attr.remove(col)"
      ],
      "execution_count": 54,
      "outputs": [
        {
          "output_type": "stream",
          "text": [
            "Deleting uid\n",
            "Deleting uid2\n",
            "Deleting uid3\n",
            "Deleting id_30\n",
            "Deleting id_31\n",
            "Deleting id_33\n",
            "Deleting TransactionID\n",
            "Deleting TransactionDT\n",
            "Deleting DT\n",
            "Deleting DT_M\n",
            "Deleting DT_W\n",
            "Deleting DT_D\n",
            "Deleting DT_hour\n",
            "Deleting DT_day_week\n",
            "Deleting DT_day\n",
            "Deleting DT_D_total\n",
            "Deleting DT_W_total\n",
            "Deleting DT_M_total\n",
            "Deleting D1\n",
            "Deleting D2\n",
            "Deleting D9\n"
          ],
          "name": "stdout"
        }
      ]
    },
    {
      "cell_type": "code",
      "metadata": {
        "id": "JE_6FTj2E4_v",
        "colab_type": "code",
        "colab": {}
      },
      "source": [
        "num_pipeline = Pipeline([\n",
        "        ('selector', DataFrameSelector(num_attr)),\n",
        "        ('imputer', SimpleImputer(strategy=\"median\")),\n",
        "        ('scaler', StandardScaler()),\n",
        "    ]) \n",
        "\n",
        "cat_pipeline = Pipeline([\n",
        "        ('selector', DataFrameSelector(cat_attr)),\n",
        "        ('imputer', SimpleImputer(strategy=\"most_frequent\")),\n",
        "    ])\n",
        "\n",
        "\n",
        "full_pipeline = FeatureUnion(transformer_list=[\n",
        "    ('num_pipeline', num_pipeline),\n",
        "    ('cat_pipeline', cat_pipeline),\n",
        "])"
      ],
      "execution_count": 0,
      "outputs": []
    },
    {
      "cell_type": "markdown",
      "metadata": {
        "id": "MrLkQCaUE4_4",
        "colab_type": "text"
      },
      "source": [
        "Now we need to deal with categorical data"
      ]
    },
    {
      "cell_type": "code",
      "metadata": {
        "id": "HXkWjDnGE5AZ",
        "colab_type": "code",
        "colab": {}
      },
      "source": [
        "def encodeCategorical(df_train, df_test):\n",
        "    for f in df_train.drop('isFraud', axis=1).columns:\n",
        "        if df_train[f].dtype=='object' or df_test[f].dtype=='object': \n",
        "            lbl = preprocessing.LabelEncoder()\n",
        "            lbl.fit(list(df_train[f].values) + list(df_test[f].values))\n",
        "            df_train[f] = lbl.transform(list(df_train[f].values))\n",
        "            df_test[f] = lbl.transform(list(df_test[f].values))\n",
        "    return df_train, df_test"
      ],
      "execution_count": 0,
      "outputs": []
    },
    {
      "cell_type": "code",
      "metadata": {
        "id": "mr2AaqdXE5Ao",
        "colab_type": "code",
        "colab": {}
      },
      "source": [
        "y_train = train['isFraud']\n",
        "train, test = encodeCategorical(train, test)"
      ],
      "execution_count": 0,
      "outputs": []
    },
    {
      "cell_type": "code",
      "metadata": {
        "id": "UL1BlMRvY70m",
        "colab_type": "code",
        "colab": {
          "base_uri": "https://localhost:8080/",
          "height": 34
        },
        "outputId": "8a8c4fda-5d00-4974-d2b6-2676d1bb2732"
      },
      "source": [
        "train.shape\n"
      ],
      "execution_count": 58,
      "outputs": [
        {
          "output_type": "execute_result",
          "data": {
            "text/plain": [
              "(590540, 450)"
            ]
          },
          "metadata": {
            "tags": []
          },
          "execution_count": 58
        }
      ]
    },
    {
      "cell_type": "code",
      "metadata": {
        "id": "_QTeNocjZpG7",
        "colab_type": "code",
        "colab": {
          "base_uri": "https://localhost:8080/",
          "height": 34
        },
        "outputId": "12fa0e04-1560-430c-ac80-c85f76c6ba42"
      },
      "source": [
        "test.shape"
      ],
      "execution_count": 59,
      "outputs": [
        {
          "output_type": "execute_result",
          "data": {
            "text/plain": [
              "(506691, 515)"
            ]
          },
          "metadata": {
            "tags": []
          },
          "execution_count": 59
        }
      ]
    },
    {
      "cell_type": "code",
      "metadata": {
        "id": "Gs2KrK0BE5BP",
        "colab_type": "code",
        "colab": {
          "base_uri": "https://localhost:8080/",
          "height": 34
        },
        "outputId": "0a8287cb-a1c5-4afc-8f20-3824e803f808"
      },
      "source": [
        "X_train = pd.DataFrame(full_pipeline.fit_transform(train))\n",
        "gc.collect()"
      ],
      "execution_count": 62,
      "outputs": [
        {
          "output_type": "execute_result",
          "data": {
            "text/plain": [
              "328"
            ]
          },
          "metadata": {
            "tags": []
          },
          "execution_count": 62
        }
      ]
    },
    {
      "cell_type": "code",
      "metadata": {
        "id": "WqUpMy3RE5BX",
        "colab_type": "code",
        "colab": {}
      },
      "source": [
        "del train"
      ],
      "execution_count": 0,
      "outputs": []
    },
    {
      "cell_type": "code",
      "metadata": {
        "id": "0Pgp3nUF_7-C",
        "colab_type": "code",
        "colab": {}
      },
      "source": [
        "# X_test = pd.DataFrame(full_pipeline.fit_transform(test))\n",
        "# gc.collect()"
      ],
      "execution_count": 0,
      "outputs": []
    },
    {
      "cell_type": "markdown",
      "metadata": {
        "id": "3FkdhEDNE5Bh",
        "colab_type": "text"
      },
      "source": [
        "# Logistic Regression Model"
      ]
    },
    {
      "cell_type": "markdown",
      "metadata": {
        "id": "H6578mG0E5Bj",
        "colab_type": "text"
      },
      "source": [
        "We prepare the test data with the pipeline we had so it will be ready to be used for prediction."
      ]
    },
    {
      "cell_type": "code",
      "metadata": {
        "id": "ky4oeeW_lq3n",
        "colab_type": "code",
        "colab": {}
      },
      "source": [
        "from sklearn.linear_model import LogisticRegression\n",
        "from sklearn.model_selection import train_test_split\n",
        "\n",
        "X_train, X_test, y_train, y_test = train_test_split(X_train, y_train, test_size=0.2)\n"
      ],
      "execution_count": 0,
      "outputs": []
    },
    {
      "cell_type": "code",
      "metadata": {
        "id": "Mc4yIAERrsWZ",
        "colab_type": "code",
        "colab": {}
      },
      "source": [
        "\n",
        "from sklearn.linear_model import LogisticRegression  \n",
        "from sklearn.preprocessing import StandardScaler  \n",
        "\n",
        "from sklearn.metrics import confusion_matrix\n",
        "from sklearn.metrics import classification_report\n",
        "\n",
        "from sklearn.metrics import recall_score\n",
        "from sklearn.metrics import accuracy_score"
      ],
      "execution_count": 0,
      "outputs": []
    },
    {
      "cell_type": "code",
      "metadata": {
        "id": "Sc4NWl1qsFfD",
        "colab_type": "code",
        "colab": {
          "base_uri": "https://localhost:8080/",
          "height": 136
        },
        "outputId": "4d610363-49c4-49b5-829a-66d20514b615"
      },
      "source": [
        "lr = LogisticRegression(solver='lbfgs')  \n",
        "lr.fit(X_train, y_train)"
      ],
      "execution_count": 67,
      "outputs": [
        {
          "output_type": "stream",
          "text": [
            "/usr/local/lib/python3.6/dist-packages/sklearn/linear_model/logistic.py:947: ConvergenceWarning: lbfgs failed to converge. Increase the number of iterations.\n",
            "  \"of iterations.\", ConvergenceWarning)\n"
          ],
          "name": "stderr"
        },
        {
          "output_type": "execute_result",
          "data": {
            "text/plain": [
              "LogisticRegression(C=1.0, class_weight=None, dual=False, fit_intercept=True,\n",
              "                   intercept_scaling=1, l1_ratio=None, max_iter=100,\n",
              "                   multi_class='warn', n_jobs=None, penalty='l2',\n",
              "                   random_state=None, solver='lbfgs', tol=0.0001, verbose=0,\n",
              "                   warm_start=False)"
            ]
          },
          "metadata": {
            "tags": []
          },
          "execution_count": 67
        }
      ]
    },
    {
      "cell_type": "code",
      "metadata": {
        "id": "ZRxdz6-Lsdfs",
        "colab_type": "code",
        "colab": {
          "base_uri": "https://localhost:8080/",
          "height": 34
        },
        "outputId": "c9bd39ab-f46c-454e-9b87-477be0547a6e"
      },
      "source": [
        "lr.score(X_test, y_test)"
      ],
      "execution_count": 68,
      "outputs": [
        {
          "output_type": "execute_result",
          "data": {
            "text/plain": [
              "0.9702645036746029"
            ]
          },
          "metadata": {
            "tags": []
          },
          "execution_count": 68
        }
      ]
    },
    {
      "cell_type": "code",
      "metadata": {
        "id": "WHrNGRg_swIZ",
        "colab_type": "code",
        "colab": {}
      },
      "source": [
        "y_pred=lr.predict(X_test)"
      ],
      "execution_count": 0,
      "outputs": []
    },
    {
      "cell_type": "code",
      "metadata": {
        "id": "XPaICZ0es2w8",
        "colab_type": "code",
        "colab": {
          "base_uri": "https://localhost:8080/",
          "height": 173
        },
        "outputId": "97a07fd0-09bb-42db-dab7-84fe6b258c42"
      },
      "source": [
        "\n",
        "pd.crosstab(y_test, y_pred, rownames=['True'], colnames=['Predicted'], margins=True)"
      ],
      "execution_count": 70,
      "outputs": [
        {
          "output_type": "execute_result",
          "data": {
            "text/html": [
              "<div>\n",
              "<style scoped>\n",
              "    .dataframe tbody tr th:only-of-type {\n",
              "        vertical-align: middle;\n",
              "    }\n",
              "\n",
              "    .dataframe tbody tr th {\n",
              "        vertical-align: top;\n",
              "    }\n",
              "\n",
              "    .dataframe thead th {\n",
              "        text-align: right;\n",
              "    }\n",
              "</style>\n",
              "<table border=\"1\" class=\"dataframe\">\n",
              "  <thead>\n",
              "    <tr style=\"text-align: right;\">\n",
              "      <th>Predicted</th>\n",
              "      <th>0</th>\n",
              "      <th>1</th>\n",
              "      <th>All</th>\n",
              "    </tr>\n",
              "    <tr>\n",
              "      <th>True</th>\n",
              "      <th></th>\n",
              "      <th></th>\n",
              "      <th></th>\n",
              "    </tr>\n",
              "  </thead>\n",
              "  <tbody>\n",
              "    <tr>\n",
              "      <th>0</th>\n",
              "      <td>113668</td>\n",
              "      <td>198</td>\n",
              "      <td>113866</td>\n",
              "    </tr>\n",
              "    <tr>\n",
              "      <th>1</th>\n",
              "      <td>3314</td>\n",
              "      <td>928</td>\n",
              "      <td>4242</td>\n",
              "    </tr>\n",
              "    <tr>\n",
              "      <th>All</th>\n",
              "      <td>116982</td>\n",
              "      <td>1126</td>\n",
              "      <td>118108</td>\n",
              "    </tr>\n",
              "  </tbody>\n",
              "</table>\n",
              "</div>"
            ],
            "text/plain": [
              "Predicted       0     1     All\n",
              "True                           \n",
              "0          113668   198  113866\n",
              "1            3314   928    4242\n",
              "All        116982  1126  118108"
            ]
          },
          "metadata": {
            "tags": []
          },
          "execution_count": 70
        }
      ]
    },
    {
      "cell_type": "code",
      "metadata": {
        "id": "vGQxOZmAvBv8",
        "colab_type": "code",
        "colab": {
          "base_uri": "https://localhost:8080/",
          "height": 34
        },
        "outputId": "519a87ad-a0e9-480c-f5b7-692971805b5d"
      },
      "source": [
        "recall_score(y_test, y_pred)"
      ],
      "execution_count": 71,
      "outputs": [
        {
          "output_type": "execute_result",
          "data": {
            "text/plain": [
              "0.21876473361621876"
            ]
          },
          "metadata": {
            "tags": []
          },
          "execution_count": 71
        }
      ]
    },
    {
      "cell_type": "code",
      "metadata": {
        "id": "CnZvhtiBvEiT",
        "colab_type": "code",
        "colab": {
          "base_uri": "https://localhost:8080/",
          "height": 34
        },
        "outputId": "1d5c8ca4-e54d-4c3d-d17a-e9a0da7631ba"
      },
      "source": [
        "accuracy_score(y_test, y_pred)"
      ],
      "execution_count": 72,
      "outputs": [
        {
          "output_type": "execute_result",
          "data": {
            "text/plain": [
              "0.9702645036746029"
            ]
          },
          "metadata": {
            "tags": []
          },
          "execution_count": 72
        }
      ]
    },
    {
      "cell_type": "markdown",
      "metadata": {
        "id": "QsgrFuWP19Vy",
        "colab_type": "text"
      },
      "source": [
        "# Prepare Kaggle Test Data for Submission"
      ]
    },
    {
      "cell_type": "code",
      "metadata": {
        "id": "3-rqwvuDE5Bs",
        "colab_type": "code",
        "colab": {}
      },
      "source": [
        "X_test_submission = test.drop(cols_to_drop, axis=1)\n",
        "X_test_submission = pd.DataFrame(full_pipeline.transform(X_test_submission))"
      ],
      "execution_count": 0,
      "outputs": []
    },
    {
      "cell_type": "code",
      "metadata": {
        "id": "ywxrLtQK3xs0",
        "colab_type": "code",
        "colab": {
          "base_uri": "https://localhost:8080/",
          "height": 34
        },
        "outputId": "8d6f5de9-0dc7-4702-c852-2d19dfcec34b"
      },
      "source": [
        "import csv\n",
        "\n",
        "y_sub_predict = lr.predict_proba(X_test_submission)\n",
        "\n",
        "csv_data = [['TransactionID', 'isFraud']]\n",
        "\n",
        "fraud_dict = { 'fraud': 0, 'not_fraud': 0 }\n",
        "for i in range(0, len(y_sub_predict)):\n",
        "  csv_data.append([test['TransactionID'][i], y_sub_predict[i][0]])\n",
        "  if y_sub_predict[i][0] >= 0.5:\n",
        "    fraud_dict['fraud'] += 1\n",
        "  else:\n",
        "    fraud_dict['not_fraud'] += 1\n",
        "print(fraud_dict)"
      ],
      "execution_count": 74,
      "outputs": [
        {
          "output_type": "stream",
          "text": [
            "{'fraud': 500948, 'not_fraud': 5743}\n"
          ],
          "name": "stdout"
        }
      ]
    },
    {
      "cell_type": "code",
      "metadata": {
        "id": "0bWI7-I42skx",
        "colab_type": "code",
        "colab": {}
      },
      "source": [
        "with open('submission.csv', 'w') as csv_file:\n",
        "  writer = csv.writer(csv_file)\n",
        "  writer.writerows(csv_data)\n",
        "\n",
        "csv_file.close()"
      ],
      "execution_count": 0,
      "outputs": []
    },
    {
      "cell_type": "code",
      "metadata": {
        "id": "Gwu8ZjAOBxQR",
        "colab_type": "code",
        "colab": {
          "base_uri": "https://localhost:8080/",
          "height": 204
        },
        "outputId": "079de4f7-c07b-4976-c4d0-94d5edb8e254"
      },
      "source": [
        "submission = pd.read_csv('./submission.csv')\n",
        "submission.head()"
      ],
      "execution_count": 78,
      "outputs": [
        {
          "output_type": "execute_result",
          "data": {
            "text/html": [
              "<div>\n",
              "<style scoped>\n",
              "    .dataframe tbody tr th:only-of-type {\n",
              "        vertical-align: middle;\n",
              "    }\n",
              "\n",
              "    .dataframe tbody tr th {\n",
              "        vertical-align: top;\n",
              "    }\n",
              "\n",
              "    .dataframe thead th {\n",
              "        text-align: right;\n",
              "    }\n",
              "</style>\n",
              "<table border=\"1\" class=\"dataframe\">\n",
              "  <thead>\n",
              "    <tr style=\"text-align: right;\">\n",
              "      <th></th>\n",
              "      <th>TransactionID</th>\n",
              "      <th>isFraud</th>\n",
              "    </tr>\n",
              "  </thead>\n",
              "  <tbody>\n",
              "    <tr>\n",
              "      <th>0</th>\n",
              "      <td>3663549</td>\n",
              "      <td>0.992966</td>\n",
              "    </tr>\n",
              "    <tr>\n",
              "      <th>1</th>\n",
              "      <td>3663550</td>\n",
              "      <td>0.987027</td>\n",
              "    </tr>\n",
              "    <tr>\n",
              "      <th>2</th>\n",
              "      <td>3663551</td>\n",
              "      <td>0.953843</td>\n",
              "    </tr>\n",
              "    <tr>\n",
              "      <th>3</th>\n",
              "      <td>3663552</td>\n",
              "      <td>0.991087</td>\n",
              "    </tr>\n",
              "    <tr>\n",
              "      <th>4</th>\n",
              "      <td>3663553</td>\n",
              "      <td>0.986179</td>\n",
              "    </tr>\n",
              "  </tbody>\n",
              "</table>\n",
              "</div>"
            ],
            "text/plain": [
              "   TransactionID   isFraud\n",
              "0        3663549  0.992966\n",
              "1        3663550  0.987027\n",
              "2        3663551  0.953843\n",
              "3        3663552  0.991087\n",
              "4        3663553  0.986179"
            ]
          },
          "metadata": {
            "tags": []
          },
          "execution_count": 78
        }
      ]
    },
    {
      "cell_type": "code",
      "metadata": {
        "id": "zByG1m2YD2bw",
        "colab_type": "code",
        "colab": {}
      },
      "source": [
        "from google.colab import files\n",
        "files.download('./submission.csv')"
      ],
      "execution_count": 0,
      "outputs": []
    }
  ]
}